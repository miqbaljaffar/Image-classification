{
  "nbformat": 4,
  "nbformat_minor": 0,
  "metadata": {
    "colab": {
      "provenance": [],
      "gpuType": "T4"
    },
    "kernelspec": {
      "name": "python3",
      "display_name": "Python 3"
    },
    "language_info": {
      "name": "python"
    },
    "accelerator": "GPU"
  },
  "cells": [
    {
      "cell_type": "markdown",
      "source": [
        "# Proyek Klasifikasi Gambar: Vehicle Classification\n",
        "- **Nama:** Mohammad Iqbal Jaffar\n",
        "- **Email:** iqbaljaffar1108@gmail.com\n",
        "- **ID Dicoding:** miqbalj"
      ],
      "metadata": {
        "id": "C_UsnhYqi3Io"
      }
    },
    {
      "cell_type": "markdown",
      "source": [
        "## Import Semua Packages/Library yang Digunakan"
      ],
      "metadata": {
        "id": "YCJyWGaajGpm"
      }
    },
    {
      "cell_type": "code",
      "execution_count": 1,
      "metadata": {
        "id": "X3EKboYzRCBy"
      },
      "outputs": [],
      "source": [
        "from google.colab import files\n",
        "import os\n",
        "import zipfile\n",
        "import shutil\n",
        "import tensorflow as tf\n",
        "from tensorflow.keras.preprocessing.image import ImageDataGenerator\n",
        "from tensorflow.keras.models import Sequential\n",
        "from tensorflow.keras.layers import Conv2D, MaxPooling2D, Flatten, Dense, Dropout, BatchNormalization, Activation, Input\n",
        "from tensorflow.keras.optimizers import Adam\n",
        "from tensorflow.keras.callbacks import ModelCheckpoint, EarlyStopping, ReduceLROnPlateau\n",
        "from tensorflow.keras.regularizers import l2\n",
        "import matplotlib.pyplot as plt\n",
        "import numpy as np"
      ]
    },
    {
      "cell_type": "code",
      "source": [
        "# Install split-folders jika belum ada\n",
        "try:\n",
        "    import splitfolders\n",
        "except ImportError:\n",
        "    print(\"Library splitfolders belum terinstall. Menginstall sekarang...\")\n",
        "    !pip install -q split-folders\n",
        "    import splitfolders\n",
        "    print(\"Library splitfolders berhasil diinstall.\")"
      ],
      "metadata": {
        "colab": {
          "base_uri": "https://localhost:8080/"
        },
        "id": "rcvg-ZxDTMhm",
        "outputId": "b165cbeb-6c15-4b0d-dd4c-e80c365a2b72"
      },
      "execution_count": 2,
      "outputs": [
        {
          "output_type": "stream",
          "name": "stdout",
          "text": [
            "Library splitfolders belum terinstall. Menginstall sekarang...\n",
            "Library splitfolders berhasil diinstall.\n"
          ]
        }
      ]
    },
    {
      "cell_type": "code",
      "source": [
        "# Install tensorflowjs jika belum ada\n",
        "try:\n",
        "    import tensorflowjs as tfjs\n",
        "except ImportError:\n",
        "    print(\"\\nLibrary tensorflowjs belum terinstall. Menginstall sekarang...\")\n",
        "    !pip install -q tensorflowjs\n",
        "    import tensorflowjs as tfjs\n",
        "    print(\"Library tensorflowjs berhasil diinstall.\")\n",
        "\n",
        "print(f\"TensorFlow version: {tf.__version__}\")"
      ],
      "metadata": {
        "colab": {
          "base_uri": "https://localhost:8080/",
          "height": 437
        },
        "id": "pm-3522cTPC6",
        "outputId": "970db2eb-4f8f-4cf6-dd47-6e9c6343bdc7"
      },
      "execution_count": 3,
      "outputs": [
        {
          "output_type": "stream",
          "name": "stdout",
          "text": [
            "\n",
            "Library tensorflowjs belum terinstall. Menginstall sekarang...\n",
            "\u001b[2K   \u001b[90m━━━━━━━━━━━━━━━━━━━━━━━━━━━━━━━━━━━━━━━━\u001b[0m \u001b[32m89.1/89.1 kB\u001b[0m \u001b[31m3.9 MB/s\u001b[0m eta \u001b[36m0:00:00\u001b[0m\n",
            "\u001b[2K   \u001b[90m━━━━━━━━━━━━━━━━━━━━━━━━━━━━━━━━━━━━━━━━\u001b[0m \u001b[32m53.0/53.0 kB\u001b[0m \u001b[31m4.2 MB/s\u001b[0m eta \u001b[36m0:00:00\u001b[0m\n",
            "\u001b[?25h\u001b[31mERROR: pip's dependency resolver does not currently take into account all the packages that are installed. This behaviour is the source of the following dependency conflicts.\n",
            "db-dtypes 1.4.3 requires packaging>=24.2.0, but you have packaging 23.2 which is incompatible.\n",
            "google-cloud-bigquery 3.32.0 requires packaging>=24.2.0, but you have packaging 23.2 which is incompatible.\u001b[0m\u001b[31m\n",
            "\u001b[0m"
          ]
        },
        {
          "output_type": "display_data",
          "data": {
            "text/plain": [
              "<IPython.core.display.HTML object>"
            ],
            "text/html": [
              "\n",
              "<p style=\"margin:0px;\">🌲 Try <a href=\"https://ydf.readthedocs.io/en/latest/\" target=\"_blank\">YDF</a>, the successor of\n",
              "    <a href=\"https://www.tensorflow.org/decision_forests\" target=\"_blank\">TensorFlow\n",
              "        Decision Forests</a> using the same algorithms but with more features and faster\n",
              "    training!\n",
              "</p>\n",
              "<div style=\"display: flex; flex-wrap: wrap; margin:5px;max-width: 880px;\">\n",
              "    <div style=\"flex: 1; border-radius: 10px; background-color: F0F0F0; padding: 5px;\">\n",
              "        <p\n",
              "            style=\"font-weight: bold; margin:0px;text-align: center;border-bottom: 1px solid #C0C0C0;margin-bottom: 4px;\">\n",
              "            Old code</p>\n",
              "        <pre style=\"overflow-wrap: anywhere; overflow: auto; margin:0px;font-size: 9pt;\">\n",
              "import tensorflow_decision_forests as tfdf\n",
              "\n",
              "tf_ds = tfdf.keras.pd_dataframe_to_tf_dataset(ds, label=\"l\")\n",
              "model = tfdf.keras.RandomForestModel(label=\"l\")\n",
              "model.fit(tf_ds)\n",
              "</pre>\n",
              "    </div>\n",
              "    <div style=\"width: 5px;\"></div>\n",
              "    <div style=\"flex: 1; border-radius: 10px; background-color: F0F0F0; padding: 5px;\">\n",
              "        <p\n",
              "            style=\"font-weight: bold; margin:0px;text-align: center;border-bottom: 1px solid #C0C0C0;margin-bottom: 4px;\">\n",
              "            New code</p>\n",
              "        <pre style=\"overflow-wrap: anywhere; overflow: auto; margin:0px;font-size: 9pt;\">\n",
              "import ydf\n",
              "\n",
              "model = ydf.RandomForestLearner(label=\"l\").train(ds)\n",
              "</pre>\n",
              "    </div>\n",
              "</div>\n",
              "<p style=\"margin:0px;font-size: 9pt;\">(Learn more in the <a\n",
              "        href=\"https://ydf.readthedocs.io/en/latest/tutorial/migrating_to_ydf/\" target=\"_blank\">migration\n",
              "        guide</a>)</p>\n"
            ]
          },
          "metadata": {}
        },
        {
          "output_type": "stream",
          "name": "stdout",
          "text": [
            "Library tensorflowjs berhasil diinstall.\n",
            "TensorFlow version: 2.18.0\n"
          ]
        }
      ]
    },
    {
      "cell_type": "markdown",
      "source": [
        "## Data Preparation"
      ],
      "metadata": {
        "id": "rtYPMlMgjZKQ"
      }
    },
    {
      "cell_type": "code",
      "source": [
        "print(\"Silakan unggah file kaggle.json Anda:\")\n",
        "try:\n",
        "    uploaded = files.upload()\n",
        "    if 'kaggle.json' not in uploaded:\n",
        "        raise KeyError(\"'kaggle.json' not found in uploaded files.\")\n",
        "    print(\"\\nFile kaggle.json berhasil diunggah.\")\n",
        "except Exception as e:\n",
        "    print(f\"Error saat mengunggah file: {e}\")\n",
        "    raise SystemExit(\"Proses dihentikan karena kaggle.json tidak terunggah.\")"
      ],
      "metadata": {
        "colab": {
          "base_uri": "https://localhost:8080/",
          "height": 125
        },
        "id": "2fXGjQzUTSrP",
        "outputId": "f8bb3b0d-3ffd-49f7-bd0c-3f8c46a18163"
      },
      "execution_count": 4,
      "outputs": [
        {
          "output_type": "stream",
          "name": "stdout",
          "text": [
            "Silakan unggah file kaggle.json Anda:\n"
          ]
        },
        {
          "output_type": "display_data",
          "data": {
            "text/plain": [
              "<IPython.core.display.HTML object>"
            ],
            "text/html": [
              "\n",
              "     <input type=\"file\" id=\"files-5b8e8939-23f5-41a4-827b-bf69f3f71b1d\" name=\"files[]\" multiple disabled\n",
              "        style=\"border:none\" />\n",
              "     <output id=\"result-5b8e8939-23f5-41a4-827b-bf69f3f71b1d\">\n",
              "      Upload widget is only available when the cell has been executed in the\n",
              "      current browser session. Please rerun this cell to enable.\n",
              "      </output>\n",
              "      <script>// Copyright 2017 Google LLC\n",
              "//\n",
              "// Licensed under the Apache License, Version 2.0 (the \"License\");\n",
              "// you may not use this file except in compliance with the License.\n",
              "// You may obtain a copy of the License at\n",
              "//\n",
              "//      http://www.apache.org/licenses/LICENSE-2.0\n",
              "//\n",
              "// Unless required by applicable law or agreed to in writing, software\n",
              "// distributed under the License is distributed on an \"AS IS\" BASIS,\n",
              "// WITHOUT WARRANTIES OR CONDITIONS OF ANY KIND, either express or implied.\n",
              "// See the License for the specific language governing permissions and\n",
              "// limitations under the License.\n",
              "\n",
              "/**\n",
              " * @fileoverview Helpers for google.colab Python module.\n",
              " */\n",
              "(function(scope) {\n",
              "function span(text, styleAttributes = {}) {\n",
              "  const element = document.createElement('span');\n",
              "  element.textContent = text;\n",
              "  for (const key of Object.keys(styleAttributes)) {\n",
              "    element.style[key] = styleAttributes[key];\n",
              "  }\n",
              "  return element;\n",
              "}\n",
              "\n",
              "// Max number of bytes which will be uploaded at a time.\n",
              "const MAX_PAYLOAD_SIZE = 100 * 1024;\n",
              "\n",
              "function _uploadFiles(inputId, outputId) {\n",
              "  const steps = uploadFilesStep(inputId, outputId);\n",
              "  const outputElement = document.getElementById(outputId);\n",
              "  // Cache steps on the outputElement to make it available for the next call\n",
              "  // to uploadFilesContinue from Python.\n",
              "  outputElement.steps = steps;\n",
              "\n",
              "  return _uploadFilesContinue(outputId);\n",
              "}\n",
              "\n",
              "// This is roughly an async generator (not supported in the browser yet),\n",
              "// where there are multiple asynchronous steps and the Python side is going\n",
              "// to poll for completion of each step.\n",
              "// This uses a Promise to block the python side on completion of each step,\n",
              "// then passes the result of the previous step as the input to the next step.\n",
              "function _uploadFilesContinue(outputId) {\n",
              "  const outputElement = document.getElementById(outputId);\n",
              "  const steps = outputElement.steps;\n",
              "\n",
              "  const next = steps.next(outputElement.lastPromiseValue);\n",
              "  return Promise.resolve(next.value.promise).then((value) => {\n",
              "    // Cache the last promise value to make it available to the next\n",
              "    // step of the generator.\n",
              "    outputElement.lastPromiseValue = value;\n",
              "    return next.value.response;\n",
              "  });\n",
              "}\n",
              "\n",
              "/**\n",
              " * Generator function which is called between each async step of the upload\n",
              " * process.\n",
              " * @param {string} inputId Element ID of the input file picker element.\n",
              " * @param {string} outputId Element ID of the output display.\n",
              " * @return {!Iterable<!Object>} Iterable of next steps.\n",
              " */\n",
              "function* uploadFilesStep(inputId, outputId) {\n",
              "  const inputElement = document.getElementById(inputId);\n",
              "  inputElement.disabled = false;\n",
              "\n",
              "  const outputElement = document.getElementById(outputId);\n",
              "  outputElement.innerHTML = '';\n",
              "\n",
              "  const pickedPromise = new Promise((resolve) => {\n",
              "    inputElement.addEventListener('change', (e) => {\n",
              "      resolve(e.target.files);\n",
              "    });\n",
              "  });\n",
              "\n",
              "  const cancel = document.createElement('button');\n",
              "  inputElement.parentElement.appendChild(cancel);\n",
              "  cancel.textContent = 'Cancel upload';\n",
              "  const cancelPromise = new Promise((resolve) => {\n",
              "    cancel.onclick = () => {\n",
              "      resolve(null);\n",
              "    };\n",
              "  });\n",
              "\n",
              "  // Wait for the user to pick the files.\n",
              "  const files = yield {\n",
              "    promise: Promise.race([pickedPromise, cancelPromise]),\n",
              "    response: {\n",
              "      action: 'starting',\n",
              "    }\n",
              "  };\n",
              "\n",
              "  cancel.remove();\n",
              "\n",
              "  // Disable the input element since further picks are not allowed.\n",
              "  inputElement.disabled = true;\n",
              "\n",
              "  if (!files) {\n",
              "    return {\n",
              "      response: {\n",
              "        action: 'complete',\n",
              "      }\n",
              "    };\n",
              "  }\n",
              "\n",
              "  for (const file of files) {\n",
              "    const li = document.createElement('li');\n",
              "    li.append(span(file.name, {fontWeight: 'bold'}));\n",
              "    li.append(span(\n",
              "        `(${file.type || 'n/a'}) - ${file.size} bytes, ` +\n",
              "        `last modified: ${\n",
              "            file.lastModifiedDate ? file.lastModifiedDate.toLocaleDateString() :\n",
              "                                    'n/a'} - `));\n",
              "    const percent = span('0% done');\n",
              "    li.appendChild(percent);\n",
              "\n",
              "    outputElement.appendChild(li);\n",
              "\n",
              "    const fileDataPromise = new Promise((resolve) => {\n",
              "      const reader = new FileReader();\n",
              "      reader.onload = (e) => {\n",
              "        resolve(e.target.result);\n",
              "      };\n",
              "      reader.readAsArrayBuffer(file);\n",
              "    });\n",
              "    // Wait for the data to be ready.\n",
              "    let fileData = yield {\n",
              "      promise: fileDataPromise,\n",
              "      response: {\n",
              "        action: 'continue',\n",
              "      }\n",
              "    };\n",
              "\n",
              "    // Use a chunked sending to avoid message size limits. See b/62115660.\n",
              "    let position = 0;\n",
              "    do {\n",
              "      const length = Math.min(fileData.byteLength - position, MAX_PAYLOAD_SIZE);\n",
              "      const chunk = new Uint8Array(fileData, position, length);\n",
              "      position += length;\n",
              "\n",
              "      const base64 = btoa(String.fromCharCode.apply(null, chunk));\n",
              "      yield {\n",
              "        response: {\n",
              "          action: 'append',\n",
              "          file: file.name,\n",
              "          data: base64,\n",
              "        },\n",
              "      };\n",
              "\n",
              "      let percentDone = fileData.byteLength === 0 ?\n",
              "          100 :\n",
              "          Math.round((position / fileData.byteLength) * 100);\n",
              "      percent.textContent = `${percentDone}% done`;\n",
              "\n",
              "    } while (position < fileData.byteLength);\n",
              "  }\n",
              "\n",
              "  // All done.\n",
              "  yield {\n",
              "    response: {\n",
              "      action: 'complete',\n",
              "    }\n",
              "  };\n",
              "}\n",
              "\n",
              "scope.google = scope.google || {};\n",
              "scope.google.colab = scope.google.colab || {};\n",
              "scope.google.colab._files = {\n",
              "  _uploadFiles,\n",
              "  _uploadFilesContinue,\n",
              "};\n",
              "})(self);\n",
              "</script> "
            ]
          },
          "metadata": {}
        },
        {
          "output_type": "stream",
          "name": "stdout",
          "text": [
            "Saving kaggle.json to kaggle.json\n",
            "\n",
            "File kaggle.json berhasil diunggah.\n"
          ]
        }
      ]
    },
    {
      "cell_type": "code",
      "source": [
        "print(\"\\nMengonfigurasi Kaggle API...\")\n",
        "!mkdir -p ~/.kaggle\n",
        "!cp kaggle.json ~/.kaggle/\n",
        "!chmod 600 ~/.kaggle/kaggle.json\n",
        "print(\"Kaggle API berhasil dikonfigurasi.\")"
      ],
      "metadata": {
        "colab": {
          "base_uri": "https://localhost:8080/"
        },
        "id": "ce6LnjeyTcZ0",
        "outputId": "1ec6304a-649f-48c3-fa05-085c376519fb"
      },
      "execution_count": 5,
      "outputs": [
        {
          "output_type": "stream",
          "name": "stdout",
          "text": [
            "\n",
            "Mengonfigurasi Kaggle API...\n",
            "Kaggle API berhasil dikonfigurasi.\n"
          ]
        }
      ]
    },
    {
      "cell_type": "markdown",
      "source": [
        "### Data Loading"
      ],
      "metadata": {
        "id": "P90J8GTRjd88"
      }
    },
    {
      "cell_type": "code",
      "source": [
        "print(\"\\nMengunduh dataset 'vehicle-classification' dari Kaggle...\")\n",
        "!kaggle datasets download -d mohamedmaher5/vehicle-classification -q --force\n",
        "print(\"Dataset berhasil diunduh.\")"
      ],
      "metadata": {
        "colab": {
          "base_uri": "https://localhost:8080/"
        },
        "id": "eR74tqxmTg_t",
        "outputId": "85008c60-e586-4e3c-a005-83323f644290"
      },
      "execution_count": 6,
      "outputs": [
        {
          "output_type": "stream",
          "name": "stdout",
          "text": [
            "\n",
            "Mengunduh dataset 'vehicle-classification' dari Kaggle...\n",
            "Dataset URL: https://www.kaggle.com/datasets/mohamedmaher5/vehicle-classification\n",
            "License(s): CC0-1.0\n",
            "Dataset berhasil diunduh.\n"
          ]
        }
      ]
    },
    {
      "cell_type": "code",
      "source": [
        "# Hapus direktori data lama jika ada, untuk ekstraksi bersih\n",
        "raw_data_dir = 'vehicle_classification_data'\n",
        "if os.path.exists(raw_data_dir):\n",
        "    shutil.rmtree(raw_data_dir)\n",
        "os.makedirs(raw_data_dir, exist_ok=True)"
      ],
      "metadata": {
        "id": "AdySTBxtTjXh"
      },
      "execution_count": 7,
      "outputs": []
    },
    {
      "cell_type": "code",
      "source": [
        "print(\"\\nMengekstrak dataset...\")\n",
        "with zipfile.ZipFile('vehicle-classification.zip', 'r') as zip_ref:\n",
        "    zip_ref.extractall(raw_data_dir)\n",
        "print(f\"Dataset berhasil diekstrak ke folder '{raw_data_dir}'.\")\n",
        "\n",
        "if os.path.exists('vehicle-classification.zip'):\n",
        "    os.remove('vehicle-classification.zip')\n",
        "    print(\"File zip 'vehicle-classification.zip' telah dihapus.\")"
      ],
      "metadata": {
        "colab": {
          "base_uri": "https://localhost:8080/"
        },
        "id": "ICMmC3gBTmDN",
        "outputId": "0013a8f8-18f5-48fd-8a5a-8e62daca4202"
      },
      "execution_count": 8,
      "outputs": [
        {
          "output_type": "stream",
          "name": "stdout",
          "text": [
            "\n",
            "Mengekstrak dataset...\n",
            "Dataset berhasil diekstrak ke folder 'vehicle_classification_data'.\n",
            "File zip 'vehicle-classification.zip' telah dihapus.\n"
          ]
        }
      ]
    },
    {
      "cell_type": "code",
      "source": [
        "# Verifikasi isi folder dataset dan temukan path yang benar\n",
        "base_dataset_dir = None\n",
        "# Path yang umum setelah ekstraksi dari Kaggle untuk dataset ini\n",
        "expected_path1 = os.path.join(raw_data_dir, 'Vehicles')\n",
        "expected_path2 = os.path.join(raw_data_dir, 'Vehicle Classification', 'Vehicles') # Struktur lain yang mungkin\n",
        "expected_path3 = os.path.join(raw_data_dir, 'data', 'Vehicles') # Struktur lain yang mungkin\n",
        "\n",
        "if os.path.exists(expected_path1) and os.listdir(expected_path1):\n",
        "    base_dataset_dir = expected_path1\n",
        "elif os.path.exists(expected_path2) and os.listdir(expected_path2):\n",
        "    base_dataset_dir = expected_path2\n",
        "elif os.path.exists(expected_path3) and os.listdir(expected_path3):\n",
        "    base_dataset_dir = expected_path3\n",
        "else:\n",
        "    # Pencarian lebih umum jika path di atas tidak ditemukan\n",
        "    print(\"Path dataset standar tidak ditemukan, mencoba mencari 'Vehicles' secara rekursif...\")\n",
        "    for root, dirs, _ in os.walk(raw_data_dir):\n",
        "        if 'Vehicles' in dirs:\n",
        "            potential_path = os.path.join(root, 'Vehicles')\n",
        "            # Pastikan direktori 'Vehicles' ini berisi subfolder kelas\n",
        "            if any(os.path.isdir(os.path.join(potential_path, item)) for item in os.listdir(potential_path)):\n",
        "                base_dataset_dir = potential_path\n",
        "                print(f\"Direktori 'Vehicles' yang valid ditemukan di: {base_dataset_dir}\")\n",
        "                break\n",
        "    if not base_dataset_dir:\n",
        "        print(f\"Error: Direktori dataset 'Vehicles' yang berisi kelas-kelas kendaraan tidak ditemukan setelah ekstraksi di dalam '{raw_data_dir}'.\")\n",
        "        print(\"Silakan periksa struktur file zip yang diunduh.\")\n",
        "        print(\"Isi dari 'vehicle_classification_data':\")\n",
        "        for item in os.listdir(raw_data_dir):\n",
        "            print(f\"- {item}\")\n",
        "        raise SystemExit(\"Proses dihentikan karena struktur dataset tidak sesuai harapan.\")\n",
        "\n",
        "print(f\"\\nDirektori dataset utama yang akan digunakan: '{base_dataset_dir}'\")\n",
        "print(\"Isi dari direktori dataset utama:\")\n",
        "for item in os.listdir(base_dataset_dir):\n",
        "    print(f\"- {item}\")"
      ],
      "metadata": {
        "colab": {
          "base_uri": "https://localhost:8080/"
        },
        "id": "vyDrxhRLTo7R",
        "outputId": "8cb6673b-8cdc-42b0-b82c-16f6b1617af5"
      },
      "execution_count": 9,
      "outputs": [
        {
          "output_type": "stream",
          "name": "stdout",
          "text": [
            "\n",
            "Direktori dataset utama yang akan digunakan: 'vehicle_classification_data/Vehicles'\n",
            "Isi dari direktori dataset utama:\n",
            "- Planes\n",
            "- Cars\n",
            "- Bikes\n",
            "- Ships\n",
            "- Motorcycles\n",
            "- Auto Rickshaws\n",
            "- Trains\n"
          ]
        }
      ]
    },
    {
      "cell_type": "markdown",
      "source": [
        "### Data Preprocessing"
      ],
      "metadata": {
        "id": "LSaNQnNjj7QO"
      }
    },
    {
      "cell_type": "code",
      "source": [
        "original_dataset_dir = base_dataset_dir\n",
        "output_dataset_dir = 'vehicle_data_split'"
      ],
      "metadata": {
        "id": "CC9T7iJ1T0Hg"
      },
      "execution_count": 10,
      "outputs": []
    },
    {
      "cell_type": "code",
      "source": [
        "IMG_HEIGHT = 150\n",
        "IMG_WIDTH = 150\n",
        "IMG_SHAPE = (IMG_HEIGHT, IMG_WIDTH, 3)\n",
        "BATCH_SIZE = 32\n",
        "EPOCHS = 75 # Tingkatkan sedikit, EarlyStopping akan mengontrolnya\n",
        "INIT_LR = 0.0005 # Learning rate awal yang sedikit lebih kecil"
      ],
      "metadata": {
        "id": "M2Z-VEaZT4Bv"
      },
      "execution_count": 11,
      "outputs": []
    },
    {
      "cell_type": "code",
      "source": [
        "if os.path.exists(original_dataset_dir):\n",
        "    class_names = sorted([d for d in os.listdir(original_dataset_dir) if os.path.isdir(os.path.join(original_dataset_dir, d))])\n",
        "    NUM_CLASSES = len(class_names)\n",
        "    print(f\"\\nDirektori dataset asli: {original_dataset_dir}\")\n",
        "    print(f\"Kelas yang terdeteksi ({NUM_CLASSES}): {class_names}\")\n",
        "    if NUM_CLASSES == 0:\n",
        "        print(\"Error: Tidak ada subdirektori kelas yang ditemukan di 'original_dataset_dir'.\")\n",
        "        raise SystemExit(\"Hentikan eksekusi.\")\n",
        "else:\n",
        "    print(f\"Error: Direktori dataset asli '{original_dataset_dir}' tidak ditemukan.\")\n",
        "    raise SystemExit(\"Hentikan eksekusi karena direktori dataset tidak ditemukan.\")"
      ],
      "metadata": {
        "colab": {
          "base_uri": "https://localhost:8080/"
        },
        "id": "UJUawXM7T77s",
        "outputId": "4a6ace19-aa80-4f87-cae4-2a75055fc701"
      },
      "execution_count": 12,
      "outputs": [
        {
          "output_type": "stream",
          "name": "stdout",
          "text": [
            "\n",
            "Direktori dataset asli: vehicle_classification_data/Vehicles\n",
            "Kelas yang terdeteksi (7): ['Auto Rickshaws', 'Bikes', 'Cars', 'Motorcycles', 'Planes', 'Ships', 'Trains']\n"
          ]
        }
      ]
    },
    {
      "cell_type": "code",
      "source": [
        "if os.path.exists(output_dataset_dir):\n",
        "    print(f\"Menghapus direktori '{output_dataset_dir}' yang sudah ada...\")\n",
        "    shutil.rmtree(output_dataset_dir)\n",
        "print(f\"Direktori output untuk data split: {output_dataset_dir}\")"
      ],
      "metadata": {
        "colab": {
          "base_uri": "https://localhost:8080/"
        },
        "id": "w3-6EfOET_BE",
        "outputId": "9603135d-97f5-41b4-fdcb-e02eeebde374"
      },
      "execution_count": 13,
      "outputs": [
        {
          "output_type": "stream",
          "name": "stdout",
          "text": [
            "Direktori output untuk data split: vehicle_data_split\n"
          ]
        }
      ]
    },
    {
      "cell_type": "markdown",
      "source": [
        "#### Split Dataset"
      ],
      "metadata": {
        "id": "yWCGG02YkDLl"
      }
    },
    {
      "cell_type": "code",
      "source": [
        "print(\"\\nMembagi dataset menjadi train, validation, dan test set...\")\n",
        "splitfolders.ratio(\n",
        "    original_dataset_dir,\n",
        "    output=output_dataset_dir,\n",
        "    seed=42,\n",
        "    ratio=(.7, .15, .15), # 70% train, 15% validation, 15% test\n",
        "    group_prefix=None,\n",
        "    move=False\n",
        ")\n",
        "print(\"Pembagian dataset selesai.\")"
      ],
      "metadata": {
        "colab": {
          "base_uri": "https://localhost:8080/"
        },
        "id": "KUwg57ZZUB8t",
        "outputId": "d34ea54f-c75b-49e3-cf85-01e5305b1e49"
      },
      "execution_count": 14,
      "outputs": [
        {
          "output_type": "stream",
          "name": "stdout",
          "text": [
            "\n",
            "Membagi dataset menjadi train, validation, dan test set...\n"
          ]
        },
        {
          "output_type": "stream",
          "name": "stderr",
          "text": [
            "Copying files: 5590 files [00:07, 719.39 files/s]"
          ]
        },
        {
          "output_type": "stream",
          "name": "stdout",
          "text": [
            "Pembagian dataset selesai.\n"
          ]
        },
        {
          "output_type": "stream",
          "name": "stderr",
          "text": [
            "\n"
          ]
        }
      ]
    },
    {
      "cell_type": "code",
      "source": [
        "train_dir = os.path.join(output_dataset_dir, 'train')\n",
        "validation_dir = os.path.join(output_dataset_dir, 'val')\n",
        "test_dir = os.path.join(output_dataset_dir, 'test')"
      ],
      "metadata": {
        "id": "QyRmiStpUEtb"
      },
      "execution_count": 15,
      "outputs": []
    },
    {
      "cell_type": "code",
      "source": [
        "print(f\"\\nPath direktori training: {train_dir}\")\n",
        "print(f\"Path direktori validasi: {validation_dir}\")\n",
        "print(f\"Path direktori testing: {test_dir}\")"
      ],
      "metadata": {
        "colab": {
          "base_uri": "https://localhost:8080/"
        },
        "id": "ASbXReIhUI_O",
        "outputId": "93df0d09-3ab7-4e36-d59d-f79e67ef71e4"
      },
      "execution_count": 16,
      "outputs": [
        {
          "output_type": "stream",
          "name": "stdout",
          "text": [
            "\n",
            "Path direktori training: vehicle_data_split/train\n",
            "Path direktori validasi: vehicle_data_split/val\n",
            "Path direktori testing: vehicle_data_split/test\n"
          ]
        }
      ]
    },
    {
      "cell_type": "code",
      "source": [
        "def count_files_in_subdirs(directory):\n",
        "    total_files = 0\n",
        "    if not os.path.exists(directory): return 0, {}\n",
        "    counts_per_class = {}\n",
        "    for class_name in class_names: # Iterasi berdasarkan class_names yang sudah terdeteksi\n",
        "        class_path = os.path.join(directory, class_name)\n",
        "        if os.path.isdir(class_path):\n",
        "            count = len([name for name in os.listdir(class_path) if os.path.isfile(os.path.join(class_path, name))])\n",
        "            counts_per_class[class_name] = count\n",
        "            total_files += count\n",
        "    return total_files, counts_per_class"
      ],
      "metadata": {
        "id": "CjDlczKrUK3O"
      },
      "execution_count": 17,
      "outputs": []
    },
    {
      "cell_type": "code",
      "source": [
        "num_train_images, train_class_counts = count_files_in_subdirs(train_dir)\n",
        "num_val_images, val_class_counts = count_files_in_subdirs(validation_dir)\n",
        "num_test_images, test_class_counts = count_files_in_subdirs(test_dir)"
      ],
      "metadata": {
        "id": "vddUPyPhUOwe"
      },
      "execution_count": 18,
      "outputs": []
    },
    {
      "cell_type": "code",
      "source": [
        "print(f\"\\nJumlah gambar training: {num_train_images}\")\n",
        "print(f\"Detail per kelas (train): {train_class_counts}\")\n",
        "print(f\"Jumlah gambar validasi: {num_val_images}\")\n",
        "print(f\"Detail per kelas (val): {val_class_counts}\")\n",
        "print(f\"Jumlah gambar testing: {num_test_images}\")\n",
        "print(f\"Detail per kelas (test): {test_class_counts}\")"
      ],
      "metadata": {
        "colab": {
          "base_uri": "https://localhost:8080/"
        },
        "id": "0efqUOtEUQ9H",
        "outputId": "f0b3c642-feaf-424e-d6da-82fc7536b045"
      },
      "execution_count": 19,
      "outputs": [
        {
          "output_type": "stream",
          "name": "stdout",
          "text": [
            "\n",
            "Jumlah gambar training: 3913\n",
            "Detail per kelas (train): {'Auto Rickshaws': 560, 'Bikes': 560, 'Cars': 553, 'Motorcycles': 560, 'Planes': 560, 'Ships': 560, 'Trains': 560}\n",
            "Jumlah gambar validasi: 838\n",
            "Detail per kelas (val): {'Auto Rickshaws': 120, 'Bikes': 120, 'Cars': 118, 'Motorcycles': 120, 'Planes': 120, 'Ships': 120, 'Trains': 120}\n",
            "Jumlah gambar testing: 839\n",
            "Detail per kelas (test): {'Auto Rickshaws': 120, 'Bikes': 120, 'Cars': 119, 'Motorcycles': 120, 'Planes': 120, 'Ships': 120, 'Trains': 120}\n"
          ]
        }
      ]
    },
    {
      "cell_type": "code",
      "source": [
        "train_datagen = ImageDataGenerator(\n",
        "    rescale=1./255,\n",
        "    rotation_range=30,\n",
        "    width_shift_range=0.2,\n",
        "    height_shift_range=0.2,\n",
        "    shear_range=0.2,\n",
        "    zoom_range=0.2,\n",
        "    horizontal_flip=True,\n",
        "    brightness_range=[0.8, 1.2], # Penambahan brightness augmentation\n",
        "    fill_mode='nearest'\n",
        ")"
      ],
      "metadata": {
        "id": "y4VAS3xAUTWw"
      },
      "execution_count": 20,
      "outputs": []
    },
    {
      "cell_type": "code",
      "source": [
        "validation_datagen = ImageDataGenerator(rescale=1./255)\n",
        "test_datagen = ImageDataGenerator(rescale=1./255)"
      ],
      "metadata": {
        "id": "QTIL2jiIUXNk"
      },
      "execution_count": 21,
      "outputs": []
    },
    {
      "cell_type": "code",
      "source": [
        "train_generator = train_datagen.flow_from_directory(\n",
        "    train_dir,\n",
        "    target_size=(IMG_HEIGHT, IMG_WIDTH),\n",
        "    batch_size=BATCH_SIZE,\n",
        "    class_mode='categorical',\n",
        "    shuffle=True,\n",
        "    classes=class_names # Pastikan urutan kelas konsisten\n",
        ")"
      ],
      "metadata": {
        "colab": {
          "base_uri": "https://localhost:8080/"
        },
        "id": "s3sIjTZJUZLt",
        "outputId": "e834c777-60bc-4444-8e65-3183fd553210"
      },
      "execution_count": 22,
      "outputs": [
        {
          "output_type": "stream",
          "name": "stdout",
          "text": [
            "Found 3911 images belonging to 7 classes.\n"
          ]
        }
      ]
    },
    {
      "cell_type": "code",
      "source": [
        "validation_generator = validation_datagen.flow_from_directory(\n",
        "    validation_dir,\n",
        "    target_size=(IMG_HEIGHT, IMG_WIDTH),\n",
        "    batch_size=BATCH_SIZE,\n",
        "    class_mode='categorical',\n",
        "    shuffle=False,\n",
        "    classes=class_names # Pastikan urutan kelas konsisten\n",
        ")"
      ],
      "metadata": {
        "colab": {
          "base_uri": "https://localhost:8080/"
        },
        "id": "jUDfJ_EQUbpF",
        "outputId": "6c6a202a-7aa5-4eeb-dbf5-bea259d4a1a1"
      },
      "execution_count": 23,
      "outputs": [
        {
          "output_type": "stream",
          "name": "stdout",
          "text": [
            "Found 838 images belonging to 7 classes.\n"
          ]
        }
      ]
    },
    {
      "cell_type": "code",
      "source": [
        "test_generator = test_datagen.flow_from_directory(\n",
        "    test_dir,\n",
        "    target_size=(IMG_HEIGHT, IMG_WIDTH),\n",
        "    batch_size=BATCH_SIZE, # Bisa disamakan atau 1 untuk evaluasi\n",
        "    class_mode='categorical',\n",
        "    shuffle=False,\n",
        "    classes=class_names # Pastikan urutan kelas konsisten\n",
        ")"
      ],
      "metadata": {
        "colab": {
          "base_uri": "https://localhost:8080/"
        },
        "id": "Ku3awzB6Ue5_",
        "outputId": "be89ad1d-1208-40ce-b452-ecf395c6d3b4"
      },
      "execution_count": 24,
      "outputs": [
        {
          "output_type": "stream",
          "name": "stdout",
          "text": [
            "Found 838 images belonging to 7 classes.\n"
          ]
        }
      ]
    },
    {
      "cell_type": "code",
      "source": [
        "print(\"\\nKelas dari train_generator:\", train_generator.class_indices)\n",
        "print(\"Kelas dari validation_generator:\", validation_generator.class_indices)\n",
        "print(\"Kelas dari test_generator:\", test_generator.class_indices)\n",
        "\n",
        "if not (train_generator.class_indices == validation_generator.class_indices == test_generator.class_indices):\n",
        "    print(\"Peringatan: Indeks kelas tidak konsisten antar generator!\")\n",
        "else:\n",
        "    print(\"Indeks kelas konsisten antar generator.\")"
      ],
      "metadata": {
        "colab": {
          "base_uri": "https://localhost:8080/"
        },
        "id": "XceWKD7TUhJx",
        "outputId": "e23d5eec-069c-4abd-f47a-0520dd4a6783"
      },
      "execution_count": 25,
      "outputs": [
        {
          "output_type": "stream",
          "name": "stdout",
          "text": [
            "\n",
            "Kelas dari train_generator: {'Auto Rickshaws': 0, 'Bikes': 1, 'Cars': 2, 'Motorcycles': 3, 'Planes': 4, 'Ships': 5, 'Trains': 6}\n",
            "Kelas dari validation_generator: {'Auto Rickshaws': 0, 'Bikes': 1, 'Cars': 2, 'Motorcycles': 3, 'Planes': 4, 'Ships': 5, 'Trains': 6}\n",
            "Kelas dari test_generator: {'Auto Rickshaws': 0, 'Bikes': 1, 'Cars': 2, 'Motorcycles': 3, 'Planes': 4, 'Ships': 5, 'Trains': 6}\n",
            "Indeks kelas konsisten antar generator.\n"
          ]
        }
      ]
    },
    {
      "cell_type": "markdown",
      "source": [
        "## Modelling"
      ],
      "metadata": {
        "id": "7RtKZ-bhkKDv"
      }
    },
    {
      "cell_type": "code",
      "source": [
        "model = Sequential([\n",
        "    Input(shape=IMG_SHAPE), # Menggunakan Input layer eksplisit\n",
        "\n",
        "    # Blok Konvolusi 1\n",
        "    Conv2D(32, (3, 3), padding='same', use_bias=False, kernel_regularizer=l2(0.0001)),\n",
        "    BatchNormalization(),\n",
        "    Activation('relu'),\n",
        "    MaxPooling2D(2, 2),\n",
        "\n",
        "    # Blok Konvolusi 2\n",
        "    Conv2D(64, (3, 3), padding='same', use_bias=False, kernel_regularizer=l2(0.0001)),\n",
        "    BatchNormalization(),\n",
        "    Activation('relu'),\n",
        "    MaxPooling2D(2, 2),\n",
        "\n",
        "    # Blok Konvolusi 3\n",
        "    Conv2D(128, (3, 3), padding='same', use_bias=False, kernel_regularizer=l2(0.0001)),\n",
        "    BatchNormalization(),\n",
        "    Activation('relu'),\n",
        "    MaxPooling2D(2, 2),\n",
        "\n",
        "    # Blok Konvolusi 4\n",
        "    Conv2D(256, (3, 3), padding='same', use_bias=False, kernel_regularizer=l2(0.0001)),\n",
        "    BatchNormalization(),\n",
        "    Activation('relu'),\n",
        "    MaxPooling2D(2, 2),\n",
        "\n",
        "    # Blok Konvolusi 5 (Tambahan)\n",
        "    Conv2D(512, (3, 3), padding='same', use_bias=False, kernel_regularizer=l2(0.0001)),\n",
        "    BatchNormalization(),\n",
        "    Activation('relu'),\n",
        "    MaxPooling2D(2, 2),\n",
        "\n",
        "    Flatten(),\n",
        "\n",
        "    # Lapisan Fully Connected\n",
        "    Dense(512, use_bias=False, kernel_regularizer=l2(0.0001)),\n",
        "    BatchNormalization(),\n",
        "    Activation('relu'),\n",
        "    Dropout(0.4), # Dropout rate disesuaikan\n",
        "\n",
        "    # Lapisan Output\n",
        "    Dense(NUM_CLASSES, activation='softmax')\n",
        "])"
      ],
      "metadata": {
        "id": "v2dCWsI8UkPa"
      },
      "execution_count": 26,
      "outputs": []
    },
    {
      "cell_type": "code",
      "source": [
        "model.summary()"
      ],
      "metadata": {
        "colab": {
          "base_uri": "https://localhost:8080/",
          "height": 1000
        },
        "id": "q_O_KPzYUquH",
        "outputId": "cd7e8b51-75be-453d-9910-8645dbd92f21"
      },
      "execution_count": 27,
      "outputs": [
        {
          "output_type": "display_data",
          "data": {
            "text/plain": [
              "\u001b[1mModel: \"sequential\"\u001b[0m\n"
            ],
            "text/html": [
              "<pre style=\"white-space:pre;overflow-x:auto;line-height:normal;font-family:Menlo,'DejaVu Sans Mono',consolas,'Courier New',monospace\"><span style=\"font-weight: bold\">Model: \"sequential\"</span>\n",
              "</pre>\n"
            ]
          },
          "metadata": {}
        },
        {
          "output_type": "display_data",
          "data": {
            "text/plain": [
              "┏━━━━━━━━━━━━━━━━━━━━━━━━━━━━━━━━━┳━━━━━━━━━━━━━━━━━━━━━━━━┳━━━━━━━━━━━━━━━┓\n",
              "┃\u001b[1m \u001b[0m\u001b[1mLayer (type)                   \u001b[0m\u001b[1m \u001b[0m┃\u001b[1m \u001b[0m\u001b[1mOutput Shape          \u001b[0m\u001b[1m \u001b[0m┃\u001b[1m \u001b[0m\u001b[1m      Param #\u001b[0m\u001b[1m \u001b[0m┃\n",
              "┡━━━━━━━━━━━━━━━━━━━━━━━━━━━━━━━━━╇━━━━━━━━━━━━━━━━━━━━━━━━╇━━━━━━━━━━━━━━━┩\n",
              "│ conv2d (\u001b[38;5;33mConv2D\u001b[0m)                 │ (\u001b[38;5;45mNone\u001b[0m, \u001b[38;5;34m150\u001b[0m, \u001b[38;5;34m150\u001b[0m, \u001b[38;5;34m32\u001b[0m)   │           \u001b[38;5;34m864\u001b[0m │\n",
              "├─────────────────────────────────┼────────────────────────┼───────────────┤\n",
              "│ batch_normalization             │ (\u001b[38;5;45mNone\u001b[0m, \u001b[38;5;34m150\u001b[0m, \u001b[38;5;34m150\u001b[0m, \u001b[38;5;34m32\u001b[0m)   │           \u001b[38;5;34m128\u001b[0m │\n",
              "│ (\u001b[38;5;33mBatchNormalization\u001b[0m)            │                        │               │\n",
              "├─────────────────────────────────┼────────────────────────┼───────────────┤\n",
              "│ activation (\u001b[38;5;33mActivation\u001b[0m)         │ (\u001b[38;5;45mNone\u001b[0m, \u001b[38;5;34m150\u001b[0m, \u001b[38;5;34m150\u001b[0m, \u001b[38;5;34m32\u001b[0m)   │             \u001b[38;5;34m0\u001b[0m │\n",
              "├─────────────────────────────────┼────────────────────────┼───────────────┤\n",
              "│ max_pooling2d (\u001b[38;5;33mMaxPooling2D\u001b[0m)    │ (\u001b[38;5;45mNone\u001b[0m, \u001b[38;5;34m75\u001b[0m, \u001b[38;5;34m75\u001b[0m, \u001b[38;5;34m32\u001b[0m)     │             \u001b[38;5;34m0\u001b[0m │\n",
              "├─────────────────────────────────┼────────────────────────┼───────────────┤\n",
              "│ conv2d_1 (\u001b[38;5;33mConv2D\u001b[0m)               │ (\u001b[38;5;45mNone\u001b[0m, \u001b[38;5;34m75\u001b[0m, \u001b[38;5;34m75\u001b[0m, \u001b[38;5;34m64\u001b[0m)     │        \u001b[38;5;34m18,432\u001b[0m │\n",
              "├─────────────────────────────────┼────────────────────────┼───────────────┤\n",
              "│ batch_normalization_1           │ (\u001b[38;5;45mNone\u001b[0m, \u001b[38;5;34m75\u001b[0m, \u001b[38;5;34m75\u001b[0m, \u001b[38;5;34m64\u001b[0m)     │           \u001b[38;5;34m256\u001b[0m │\n",
              "│ (\u001b[38;5;33mBatchNormalization\u001b[0m)            │                        │               │\n",
              "├─────────────────────────────────┼────────────────────────┼───────────────┤\n",
              "│ activation_1 (\u001b[38;5;33mActivation\u001b[0m)       │ (\u001b[38;5;45mNone\u001b[0m, \u001b[38;5;34m75\u001b[0m, \u001b[38;5;34m75\u001b[0m, \u001b[38;5;34m64\u001b[0m)     │             \u001b[38;5;34m0\u001b[0m │\n",
              "├─────────────────────────────────┼────────────────────────┼───────────────┤\n",
              "│ max_pooling2d_1 (\u001b[38;5;33mMaxPooling2D\u001b[0m)  │ (\u001b[38;5;45mNone\u001b[0m, \u001b[38;5;34m37\u001b[0m, \u001b[38;5;34m37\u001b[0m, \u001b[38;5;34m64\u001b[0m)     │             \u001b[38;5;34m0\u001b[0m │\n",
              "├─────────────────────────────────┼────────────────────────┼───────────────┤\n",
              "│ conv2d_2 (\u001b[38;5;33mConv2D\u001b[0m)               │ (\u001b[38;5;45mNone\u001b[0m, \u001b[38;5;34m37\u001b[0m, \u001b[38;5;34m37\u001b[0m, \u001b[38;5;34m128\u001b[0m)    │        \u001b[38;5;34m73,728\u001b[0m │\n",
              "├─────────────────────────────────┼────────────────────────┼───────────────┤\n",
              "│ batch_normalization_2           │ (\u001b[38;5;45mNone\u001b[0m, \u001b[38;5;34m37\u001b[0m, \u001b[38;5;34m37\u001b[0m, \u001b[38;5;34m128\u001b[0m)    │           \u001b[38;5;34m512\u001b[0m │\n",
              "│ (\u001b[38;5;33mBatchNormalization\u001b[0m)            │                        │               │\n",
              "├─────────────────────────────────┼────────────────────────┼───────────────┤\n",
              "│ activation_2 (\u001b[38;5;33mActivation\u001b[0m)       │ (\u001b[38;5;45mNone\u001b[0m, \u001b[38;5;34m37\u001b[0m, \u001b[38;5;34m37\u001b[0m, \u001b[38;5;34m128\u001b[0m)    │             \u001b[38;5;34m0\u001b[0m │\n",
              "├─────────────────────────────────┼────────────────────────┼───────────────┤\n",
              "│ max_pooling2d_2 (\u001b[38;5;33mMaxPooling2D\u001b[0m)  │ (\u001b[38;5;45mNone\u001b[0m, \u001b[38;5;34m18\u001b[0m, \u001b[38;5;34m18\u001b[0m, \u001b[38;5;34m128\u001b[0m)    │             \u001b[38;5;34m0\u001b[0m │\n",
              "├─────────────────────────────────┼────────────────────────┼───────────────┤\n",
              "│ conv2d_3 (\u001b[38;5;33mConv2D\u001b[0m)               │ (\u001b[38;5;45mNone\u001b[0m, \u001b[38;5;34m18\u001b[0m, \u001b[38;5;34m18\u001b[0m, \u001b[38;5;34m256\u001b[0m)    │       \u001b[38;5;34m294,912\u001b[0m │\n",
              "├─────────────────────────────────┼────────────────────────┼───────────────┤\n",
              "│ batch_normalization_3           │ (\u001b[38;5;45mNone\u001b[0m, \u001b[38;5;34m18\u001b[0m, \u001b[38;5;34m18\u001b[0m, \u001b[38;5;34m256\u001b[0m)    │         \u001b[38;5;34m1,024\u001b[0m │\n",
              "│ (\u001b[38;5;33mBatchNormalization\u001b[0m)            │                        │               │\n",
              "├─────────────────────────────────┼────────────────────────┼───────────────┤\n",
              "│ activation_3 (\u001b[38;5;33mActivation\u001b[0m)       │ (\u001b[38;5;45mNone\u001b[0m, \u001b[38;5;34m18\u001b[0m, \u001b[38;5;34m18\u001b[0m, \u001b[38;5;34m256\u001b[0m)    │             \u001b[38;5;34m0\u001b[0m │\n",
              "├─────────────────────────────────┼────────────────────────┼───────────────┤\n",
              "│ max_pooling2d_3 (\u001b[38;5;33mMaxPooling2D\u001b[0m)  │ (\u001b[38;5;45mNone\u001b[0m, \u001b[38;5;34m9\u001b[0m, \u001b[38;5;34m9\u001b[0m, \u001b[38;5;34m256\u001b[0m)      │             \u001b[38;5;34m0\u001b[0m │\n",
              "├─────────────────────────────────┼────────────────────────┼───────────────┤\n",
              "│ conv2d_4 (\u001b[38;5;33mConv2D\u001b[0m)               │ (\u001b[38;5;45mNone\u001b[0m, \u001b[38;5;34m9\u001b[0m, \u001b[38;5;34m9\u001b[0m, \u001b[38;5;34m512\u001b[0m)      │     \u001b[38;5;34m1,179,648\u001b[0m │\n",
              "├─────────────────────────────────┼────────────────────────┼───────────────┤\n",
              "│ batch_normalization_4           │ (\u001b[38;5;45mNone\u001b[0m, \u001b[38;5;34m9\u001b[0m, \u001b[38;5;34m9\u001b[0m, \u001b[38;5;34m512\u001b[0m)      │         \u001b[38;5;34m2,048\u001b[0m │\n",
              "│ (\u001b[38;5;33mBatchNormalization\u001b[0m)            │                        │               │\n",
              "├─────────────────────────────────┼────────────────────────┼───────────────┤\n",
              "│ activation_4 (\u001b[38;5;33mActivation\u001b[0m)       │ (\u001b[38;5;45mNone\u001b[0m, \u001b[38;5;34m9\u001b[0m, \u001b[38;5;34m9\u001b[0m, \u001b[38;5;34m512\u001b[0m)      │             \u001b[38;5;34m0\u001b[0m │\n",
              "├─────────────────────────────────┼────────────────────────┼───────────────┤\n",
              "│ max_pooling2d_4 (\u001b[38;5;33mMaxPooling2D\u001b[0m)  │ (\u001b[38;5;45mNone\u001b[0m, \u001b[38;5;34m4\u001b[0m, \u001b[38;5;34m4\u001b[0m, \u001b[38;5;34m512\u001b[0m)      │             \u001b[38;5;34m0\u001b[0m │\n",
              "├─────────────────────────────────┼────────────────────────┼───────────────┤\n",
              "│ flatten (\u001b[38;5;33mFlatten\u001b[0m)               │ (\u001b[38;5;45mNone\u001b[0m, \u001b[38;5;34m8192\u001b[0m)           │             \u001b[38;5;34m0\u001b[0m │\n",
              "├─────────────────────────────────┼────────────────────────┼───────────────┤\n",
              "│ dense (\u001b[38;5;33mDense\u001b[0m)                   │ (\u001b[38;5;45mNone\u001b[0m, \u001b[38;5;34m512\u001b[0m)            │     \u001b[38;5;34m4,194,304\u001b[0m │\n",
              "├─────────────────────────────────┼────────────────────────┼───────────────┤\n",
              "│ batch_normalization_5           │ (\u001b[38;5;45mNone\u001b[0m, \u001b[38;5;34m512\u001b[0m)            │         \u001b[38;5;34m2,048\u001b[0m │\n",
              "│ (\u001b[38;5;33mBatchNormalization\u001b[0m)            │                        │               │\n",
              "├─────────────────────────────────┼────────────────────────┼───────────────┤\n",
              "│ activation_5 (\u001b[38;5;33mActivation\u001b[0m)       │ (\u001b[38;5;45mNone\u001b[0m, \u001b[38;5;34m512\u001b[0m)            │             \u001b[38;5;34m0\u001b[0m │\n",
              "├─────────────────────────────────┼────────────────────────┼───────────────┤\n",
              "│ dropout (\u001b[38;5;33mDropout\u001b[0m)               │ (\u001b[38;5;45mNone\u001b[0m, \u001b[38;5;34m512\u001b[0m)            │             \u001b[38;5;34m0\u001b[0m │\n",
              "├─────────────────────────────────┼────────────────────────┼───────────────┤\n",
              "│ dense_1 (\u001b[38;5;33mDense\u001b[0m)                 │ (\u001b[38;5;45mNone\u001b[0m, \u001b[38;5;34m7\u001b[0m)              │         \u001b[38;5;34m3,591\u001b[0m │\n",
              "└─────────────────────────────────┴────────────────────────┴───────────────┘\n"
            ],
            "text/html": [
              "<pre style=\"white-space:pre;overflow-x:auto;line-height:normal;font-family:Menlo,'DejaVu Sans Mono',consolas,'Courier New',monospace\">┏━━━━━━━━━━━━━━━━━━━━━━━━━━━━━━━━━┳━━━━━━━━━━━━━━━━━━━━━━━━┳━━━━━━━━━━━━━━━┓\n",
              "┃<span style=\"font-weight: bold\"> Layer (type)                    </span>┃<span style=\"font-weight: bold\"> Output Shape           </span>┃<span style=\"font-weight: bold\">       Param # </span>┃\n",
              "┡━━━━━━━━━━━━━━━━━━━━━━━━━━━━━━━━━╇━━━━━━━━━━━━━━━━━━━━━━━━╇━━━━━━━━━━━━━━━┩\n",
              "│ conv2d (<span style=\"color: #0087ff; text-decoration-color: #0087ff\">Conv2D</span>)                 │ (<span style=\"color: #00d7ff; text-decoration-color: #00d7ff\">None</span>, <span style=\"color: #00af00; text-decoration-color: #00af00\">150</span>, <span style=\"color: #00af00; text-decoration-color: #00af00\">150</span>, <span style=\"color: #00af00; text-decoration-color: #00af00\">32</span>)   │           <span style=\"color: #00af00; text-decoration-color: #00af00\">864</span> │\n",
              "├─────────────────────────────────┼────────────────────────┼───────────────┤\n",
              "│ batch_normalization             │ (<span style=\"color: #00d7ff; text-decoration-color: #00d7ff\">None</span>, <span style=\"color: #00af00; text-decoration-color: #00af00\">150</span>, <span style=\"color: #00af00; text-decoration-color: #00af00\">150</span>, <span style=\"color: #00af00; text-decoration-color: #00af00\">32</span>)   │           <span style=\"color: #00af00; text-decoration-color: #00af00\">128</span> │\n",
              "│ (<span style=\"color: #0087ff; text-decoration-color: #0087ff\">BatchNormalization</span>)            │                        │               │\n",
              "├─────────────────────────────────┼────────────────────────┼───────────────┤\n",
              "│ activation (<span style=\"color: #0087ff; text-decoration-color: #0087ff\">Activation</span>)         │ (<span style=\"color: #00d7ff; text-decoration-color: #00d7ff\">None</span>, <span style=\"color: #00af00; text-decoration-color: #00af00\">150</span>, <span style=\"color: #00af00; text-decoration-color: #00af00\">150</span>, <span style=\"color: #00af00; text-decoration-color: #00af00\">32</span>)   │             <span style=\"color: #00af00; text-decoration-color: #00af00\">0</span> │\n",
              "├─────────────────────────────────┼────────────────────────┼───────────────┤\n",
              "│ max_pooling2d (<span style=\"color: #0087ff; text-decoration-color: #0087ff\">MaxPooling2D</span>)    │ (<span style=\"color: #00d7ff; text-decoration-color: #00d7ff\">None</span>, <span style=\"color: #00af00; text-decoration-color: #00af00\">75</span>, <span style=\"color: #00af00; text-decoration-color: #00af00\">75</span>, <span style=\"color: #00af00; text-decoration-color: #00af00\">32</span>)     │             <span style=\"color: #00af00; text-decoration-color: #00af00\">0</span> │\n",
              "├─────────────────────────────────┼────────────────────────┼───────────────┤\n",
              "│ conv2d_1 (<span style=\"color: #0087ff; text-decoration-color: #0087ff\">Conv2D</span>)               │ (<span style=\"color: #00d7ff; text-decoration-color: #00d7ff\">None</span>, <span style=\"color: #00af00; text-decoration-color: #00af00\">75</span>, <span style=\"color: #00af00; text-decoration-color: #00af00\">75</span>, <span style=\"color: #00af00; text-decoration-color: #00af00\">64</span>)     │        <span style=\"color: #00af00; text-decoration-color: #00af00\">18,432</span> │\n",
              "├─────────────────────────────────┼────────────────────────┼───────────────┤\n",
              "│ batch_normalization_1           │ (<span style=\"color: #00d7ff; text-decoration-color: #00d7ff\">None</span>, <span style=\"color: #00af00; text-decoration-color: #00af00\">75</span>, <span style=\"color: #00af00; text-decoration-color: #00af00\">75</span>, <span style=\"color: #00af00; text-decoration-color: #00af00\">64</span>)     │           <span style=\"color: #00af00; text-decoration-color: #00af00\">256</span> │\n",
              "│ (<span style=\"color: #0087ff; text-decoration-color: #0087ff\">BatchNormalization</span>)            │                        │               │\n",
              "├─────────────────────────────────┼────────────────────────┼───────────────┤\n",
              "│ activation_1 (<span style=\"color: #0087ff; text-decoration-color: #0087ff\">Activation</span>)       │ (<span style=\"color: #00d7ff; text-decoration-color: #00d7ff\">None</span>, <span style=\"color: #00af00; text-decoration-color: #00af00\">75</span>, <span style=\"color: #00af00; text-decoration-color: #00af00\">75</span>, <span style=\"color: #00af00; text-decoration-color: #00af00\">64</span>)     │             <span style=\"color: #00af00; text-decoration-color: #00af00\">0</span> │\n",
              "├─────────────────────────────────┼────────────────────────┼───────────────┤\n",
              "│ max_pooling2d_1 (<span style=\"color: #0087ff; text-decoration-color: #0087ff\">MaxPooling2D</span>)  │ (<span style=\"color: #00d7ff; text-decoration-color: #00d7ff\">None</span>, <span style=\"color: #00af00; text-decoration-color: #00af00\">37</span>, <span style=\"color: #00af00; text-decoration-color: #00af00\">37</span>, <span style=\"color: #00af00; text-decoration-color: #00af00\">64</span>)     │             <span style=\"color: #00af00; text-decoration-color: #00af00\">0</span> │\n",
              "├─────────────────────────────────┼────────────────────────┼───────────────┤\n",
              "│ conv2d_2 (<span style=\"color: #0087ff; text-decoration-color: #0087ff\">Conv2D</span>)               │ (<span style=\"color: #00d7ff; text-decoration-color: #00d7ff\">None</span>, <span style=\"color: #00af00; text-decoration-color: #00af00\">37</span>, <span style=\"color: #00af00; text-decoration-color: #00af00\">37</span>, <span style=\"color: #00af00; text-decoration-color: #00af00\">128</span>)    │        <span style=\"color: #00af00; text-decoration-color: #00af00\">73,728</span> │\n",
              "├─────────────────────────────────┼────────────────────────┼───────────────┤\n",
              "│ batch_normalization_2           │ (<span style=\"color: #00d7ff; text-decoration-color: #00d7ff\">None</span>, <span style=\"color: #00af00; text-decoration-color: #00af00\">37</span>, <span style=\"color: #00af00; text-decoration-color: #00af00\">37</span>, <span style=\"color: #00af00; text-decoration-color: #00af00\">128</span>)    │           <span style=\"color: #00af00; text-decoration-color: #00af00\">512</span> │\n",
              "│ (<span style=\"color: #0087ff; text-decoration-color: #0087ff\">BatchNormalization</span>)            │                        │               │\n",
              "├─────────────────────────────────┼────────────────────────┼───────────────┤\n",
              "│ activation_2 (<span style=\"color: #0087ff; text-decoration-color: #0087ff\">Activation</span>)       │ (<span style=\"color: #00d7ff; text-decoration-color: #00d7ff\">None</span>, <span style=\"color: #00af00; text-decoration-color: #00af00\">37</span>, <span style=\"color: #00af00; text-decoration-color: #00af00\">37</span>, <span style=\"color: #00af00; text-decoration-color: #00af00\">128</span>)    │             <span style=\"color: #00af00; text-decoration-color: #00af00\">0</span> │\n",
              "├─────────────────────────────────┼────────────────────────┼───────────────┤\n",
              "│ max_pooling2d_2 (<span style=\"color: #0087ff; text-decoration-color: #0087ff\">MaxPooling2D</span>)  │ (<span style=\"color: #00d7ff; text-decoration-color: #00d7ff\">None</span>, <span style=\"color: #00af00; text-decoration-color: #00af00\">18</span>, <span style=\"color: #00af00; text-decoration-color: #00af00\">18</span>, <span style=\"color: #00af00; text-decoration-color: #00af00\">128</span>)    │             <span style=\"color: #00af00; text-decoration-color: #00af00\">0</span> │\n",
              "├─────────────────────────────────┼────────────────────────┼───────────────┤\n",
              "│ conv2d_3 (<span style=\"color: #0087ff; text-decoration-color: #0087ff\">Conv2D</span>)               │ (<span style=\"color: #00d7ff; text-decoration-color: #00d7ff\">None</span>, <span style=\"color: #00af00; text-decoration-color: #00af00\">18</span>, <span style=\"color: #00af00; text-decoration-color: #00af00\">18</span>, <span style=\"color: #00af00; text-decoration-color: #00af00\">256</span>)    │       <span style=\"color: #00af00; text-decoration-color: #00af00\">294,912</span> │\n",
              "├─────────────────────────────────┼────────────────────────┼───────────────┤\n",
              "│ batch_normalization_3           │ (<span style=\"color: #00d7ff; text-decoration-color: #00d7ff\">None</span>, <span style=\"color: #00af00; text-decoration-color: #00af00\">18</span>, <span style=\"color: #00af00; text-decoration-color: #00af00\">18</span>, <span style=\"color: #00af00; text-decoration-color: #00af00\">256</span>)    │         <span style=\"color: #00af00; text-decoration-color: #00af00\">1,024</span> │\n",
              "│ (<span style=\"color: #0087ff; text-decoration-color: #0087ff\">BatchNormalization</span>)            │                        │               │\n",
              "├─────────────────────────────────┼────────────────────────┼───────────────┤\n",
              "│ activation_3 (<span style=\"color: #0087ff; text-decoration-color: #0087ff\">Activation</span>)       │ (<span style=\"color: #00d7ff; text-decoration-color: #00d7ff\">None</span>, <span style=\"color: #00af00; text-decoration-color: #00af00\">18</span>, <span style=\"color: #00af00; text-decoration-color: #00af00\">18</span>, <span style=\"color: #00af00; text-decoration-color: #00af00\">256</span>)    │             <span style=\"color: #00af00; text-decoration-color: #00af00\">0</span> │\n",
              "├─────────────────────────────────┼────────────────────────┼───────────────┤\n",
              "│ max_pooling2d_3 (<span style=\"color: #0087ff; text-decoration-color: #0087ff\">MaxPooling2D</span>)  │ (<span style=\"color: #00d7ff; text-decoration-color: #00d7ff\">None</span>, <span style=\"color: #00af00; text-decoration-color: #00af00\">9</span>, <span style=\"color: #00af00; text-decoration-color: #00af00\">9</span>, <span style=\"color: #00af00; text-decoration-color: #00af00\">256</span>)      │             <span style=\"color: #00af00; text-decoration-color: #00af00\">0</span> │\n",
              "├─────────────────────────────────┼────────────────────────┼───────────────┤\n",
              "│ conv2d_4 (<span style=\"color: #0087ff; text-decoration-color: #0087ff\">Conv2D</span>)               │ (<span style=\"color: #00d7ff; text-decoration-color: #00d7ff\">None</span>, <span style=\"color: #00af00; text-decoration-color: #00af00\">9</span>, <span style=\"color: #00af00; text-decoration-color: #00af00\">9</span>, <span style=\"color: #00af00; text-decoration-color: #00af00\">512</span>)      │     <span style=\"color: #00af00; text-decoration-color: #00af00\">1,179,648</span> │\n",
              "├─────────────────────────────────┼────────────────────────┼───────────────┤\n",
              "│ batch_normalization_4           │ (<span style=\"color: #00d7ff; text-decoration-color: #00d7ff\">None</span>, <span style=\"color: #00af00; text-decoration-color: #00af00\">9</span>, <span style=\"color: #00af00; text-decoration-color: #00af00\">9</span>, <span style=\"color: #00af00; text-decoration-color: #00af00\">512</span>)      │         <span style=\"color: #00af00; text-decoration-color: #00af00\">2,048</span> │\n",
              "│ (<span style=\"color: #0087ff; text-decoration-color: #0087ff\">BatchNormalization</span>)            │                        │               │\n",
              "├─────────────────────────────────┼────────────────────────┼───────────────┤\n",
              "│ activation_4 (<span style=\"color: #0087ff; text-decoration-color: #0087ff\">Activation</span>)       │ (<span style=\"color: #00d7ff; text-decoration-color: #00d7ff\">None</span>, <span style=\"color: #00af00; text-decoration-color: #00af00\">9</span>, <span style=\"color: #00af00; text-decoration-color: #00af00\">9</span>, <span style=\"color: #00af00; text-decoration-color: #00af00\">512</span>)      │             <span style=\"color: #00af00; text-decoration-color: #00af00\">0</span> │\n",
              "├─────────────────────────────────┼────────────────────────┼───────────────┤\n",
              "│ max_pooling2d_4 (<span style=\"color: #0087ff; text-decoration-color: #0087ff\">MaxPooling2D</span>)  │ (<span style=\"color: #00d7ff; text-decoration-color: #00d7ff\">None</span>, <span style=\"color: #00af00; text-decoration-color: #00af00\">4</span>, <span style=\"color: #00af00; text-decoration-color: #00af00\">4</span>, <span style=\"color: #00af00; text-decoration-color: #00af00\">512</span>)      │             <span style=\"color: #00af00; text-decoration-color: #00af00\">0</span> │\n",
              "├─────────────────────────────────┼────────────────────────┼───────────────┤\n",
              "│ flatten (<span style=\"color: #0087ff; text-decoration-color: #0087ff\">Flatten</span>)               │ (<span style=\"color: #00d7ff; text-decoration-color: #00d7ff\">None</span>, <span style=\"color: #00af00; text-decoration-color: #00af00\">8192</span>)           │             <span style=\"color: #00af00; text-decoration-color: #00af00\">0</span> │\n",
              "├─────────────────────────────────┼────────────────────────┼───────────────┤\n",
              "│ dense (<span style=\"color: #0087ff; text-decoration-color: #0087ff\">Dense</span>)                   │ (<span style=\"color: #00d7ff; text-decoration-color: #00d7ff\">None</span>, <span style=\"color: #00af00; text-decoration-color: #00af00\">512</span>)            │     <span style=\"color: #00af00; text-decoration-color: #00af00\">4,194,304</span> │\n",
              "├─────────────────────────────────┼────────────────────────┼───────────────┤\n",
              "│ batch_normalization_5           │ (<span style=\"color: #00d7ff; text-decoration-color: #00d7ff\">None</span>, <span style=\"color: #00af00; text-decoration-color: #00af00\">512</span>)            │         <span style=\"color: #00af00; text-decoration-color: #00af00\">2,048</span> │\n",
              "│ (<span style=\"color: #0087ff; text-decoration-color: #0087ff\">BatchNormalization</span>)            │                        │               │\n",
              "├─────────────────────────────────┼────────────────────────┼───────────────┤\n",
              "│ activation_5 (<span style=\"color: #0087ff; text-decoration-color: #0087ff\">Activation</span>)       │ (<span style=\"color: #00d7ff; text-decoration-color: #00d7ff\">None</span>, <span style=\"color: #00af00; text-decoration-color: #00af00\">512</span>)            │             <span style=\"color: #00af00; text-decoration-color: #00af00\">0</span> │\n",
              "├─────────────────────────────────┼────────────────────────┼───────────────┤\n",
              "│ dropout (<span style=\"color: #0087ff; text-decoration-color: #0087ff\">Dropout</span>)               │ (<span style=\"color: #00d7ff; text-decoration-color: #00d7ff\">None</span>, <span style=\"color: #00af00; text-decoration-color: #00af00\">512</span>)            │             <span style=\"color: #00af00; text-decoration-color: #00af00\">0</span> │\n",
              "├─────────────────────────────────┼────────────────────────┼───────────────┤\n",
              "│ dense_1 (<span style=\"color: #0087ff; text-decoration-color: #0087ff\">Dense</span>)                 │ (<span style=\"color: #00d7ff; text-decoration-color: #00d7ff\">None</span>, <span style=\"color: #00af00; text-decoration-color: #00af00\">7</span>)              │         <span style=\"color: #00af00; text-decoration-color: #00af00\">3,591</span> │\n",
              "└─────────────────────────────────┴────────────────────────┴───────────────┘\n",
              "</pre>\n"
            ]
          },
          "metadata": {}
        },
        {
          "output_type": "display_data",
          "data": {
            "text/plain": [
              "\u001b[1m Total params: \u001b[0m\u001b[38;5;34m5,771,495\u001b[0m (22.02 MB)\n"
            ],
            "text/html": [
              "<pre style=\"white-space:pre;overflow-x:auto;line-height:normal;font-family:Menlo,'DejaVu Sans Mono',consolas,'Courier New',monospace\"><span style=\"font-weight: bold\"> Total params: </span><span style=\"color: #00af00; text-decoration-color: #00af00\">5,771,495</span> (22.02 MB)\n",
              "</pre>\n"
            ]
          },
          "metadata": {}
        },
        {
          "output_type": "display_data",
          "data": {
            "text/plain": [
              "\u001b[1m Trainable params: \u001b[0m\u001b[38;5;34m5,768,487\u001b[0m (22.01 MB)\n"
            ],
            "text/html": [
              "<pre style=\"white-space:pre;overflow-x:auto;line-height:normal;font-family:Menlo,'DejaVu Sans Mono',consolas,'Courier New',monospace\"><span style=\"font-weight: bold\"> Trainable params: </span><span style=\"color: #00af00; text-decoration-color: #00af00\">5,768,487</span> (22.01 MB)\n",
              "</pre>\n"
            ]
          },
          "metadata": {}
        },
        {
          "output_type": "display_data",
          "data": {
            "text/plain": [
              "\u001b[1m Non-trainable params: \u001b[0m\u001b[38;5;34m3,008\u001b[0m (11.75 KB)\n"
            ],
            "text/html": [
              "<pre style=\"white-space:pre;overflow-x:auto;line-height:normal;font-family:Menlo,'DejaVu Sans Mono',consolas,'Courier New',monospace\"><span style=\"font-weight: bold\"> Non-trainable params: </span><span style=\"color: #00af00; text-decoration-color: #00af00\">3,008</span> (11.75 KB)\n",
              "</pre>\n"
            ]
          },
          "metadata": {}
        }
      ]
    },
    {
      "cell_type": "code",
      "source": [
        "model.compile(\n",
        "    optimizer=Adam(learning_rate=INIT_LR),\n",
        "    loss='categorical_crossentropy',\n",
        "    metrics=['accuracy']\n",
        ")\n",
        "print(\"Model berhasil dikompilasi.\")"
      ],
      "metadata": {
        "colab": {
          "base_uri": "https://localhost:8080/"
        },
        "id": "MV9mTfDvUssO",
        "outputId": "d5b43124-3c85-49da-c55b-f51af41aa53f"
      },
      "execution_count": 28,
      "outputs": [
        {
          "output_type": "stream",
          "name": "stdout",
          "text": [
            "Model berhasil dikompilasi.\n"
          ]
        }
      ]
    },
    {
      "cell_type": "code",
      "source": [
        "checkpoint_path = \"best_vehicle_classifier_model.keras\"\n",
        "model_checkpoint = ModelCheckpoint(\n",
        "    filepath=checkpoint_path,\n",
        "    save_best_only=True,\n",
        "    monitor='val_accuracy',\n",
        "    mode='max',\n",
        "    verbose=1\n",
        ")"
      ],
      "metadata": {
        "id": "HAQJ7pRiUvbt"
      },
      "execution_count": 29,
      "outputs": []
    },
    {
      "cell_type": "code",
      "source": [
        "early_stopping = EarlyStopping(\n",
        "    monitor='val_loss',\n",
        "    patience=15, # Sedikit lebih sabar\n",
        "    restore_best_weights=True,\n",
        "    verbose=1\n",
        ")"
      ],
      "metadata": {
        "id": "ZG4Q36QXUx9G"
      },
      "execution_count": 30,
      "outputs": []
    },
    {
      "cell_type": "code",
      "source": [
        "reduce_lr = ReduceLROnPlateau(\n",
        "    monitor='val_loss',\n",
        "    factor=0.2,\n",
        "    patience=7, # Sedikit lebih sabar\n",
        "    min_lr=1e-7, # Batas bawah learning rate yang lebih kecil\n",
        "    verbose=1\n",
        ")"
      ],
      "metadata": {
        "id": "G35C9KIQU0C8"
      },
      "execution_count": 31,
      "outputs": []
    },
    {
      "cell_type": "code",
      "source": [
        "callbacks_list = [model_checkpoint, early_stopping, reduce_lr]\n",
        "print(\"Callbacks berhasil didefinisikan.\")"
      ],
      "metadata": {
        "colab": {
          "base_uri": "https://localhost:8080/"
        },
        "id": "UbaRuD40U2Wi",
        "outputId": "263976a2-c808-4f1b-ab3c-91d9973df93f"
      },
      "execution_count": 32,
      "outputs": [
        {
          "output_type": "stream",
          "name": "stdout",
          "text": [
            "Callbacks berhasil didefinisikan.\n"
          ]
        }
      ]
    },
    {
      "cell_type": "code",
      "source": [
        "print(\"\\nMemulai proses training model...\")\n",
        "history = model.fit(\n",
        "    train_generator,\n",
        "    steps_per_epoch=max(1, train_generator.samples // BATCH_SIZE), # Pastikan steps_per_epoch >= 1\n",
        "    epochs=EPOCHS,\n",
        "    validation_data=validation_generator,\n",
        "    validation_steps=max(1, validation_generator.samples // BATCH_SIZE), # Pastikan validation_steps >= 1\n",
        "    callbacks=callbacks_list,\n",
        "    verbose=1\n",
        ")\n",
        "print(\"Training model selesai.\")"
      ],
      "metadata": {
        "colab": {
          "base_uri": "https://localhost:8080/"
        },
        "id": "GAXO5L3oU4Zq",
        "outputId": "a0f436ea-66d9-489a-f844-d36d304ccbe6"
      },
      "execution_count": 33,
      "outputs": [
        {
          "output_type": "stream",
          "name": "stdout",
          "text": [
            "\n",
            "Memulai proses training model...\n"
          ]
        },
        {
          "output_type": "stream",
          "name": "stderr",
          "text": [
            "/usr/local/lib/python3.11/dist-packages/keras/src/trainers/data_adapters/py_dataset_adapter.py:121: UserWarning: Your `PyDataset` class should call `super().__init__(**kwargs)` in its constructor. `**kwargs` can include `workers`, `use_multiprocessing`, `max_queue_size`. Do not pass these arguments to `fit()`, as they will be ignored.\n",
            "  self._warn_if_super_not_called()\n"
          ]
        },
        {
          "output_type": "stream",
          "name": "stdout",
          "text": [
            "Epoch 1/75\n",
            "\u001b[1m 18/122\u001b[0m \u001b[32m━━\u001b[0m\u001b[37m━━━━━━━━━━━━━━━━━━\u001b[0m \u001b[1m37s\u001b[0m 363ms/step - accuracy: 0.2990 - loss: 2.3252"
          ]
        },
        {
          "output_type": "stream",
          "name": "stderr",
          "text": [
            "/usr/local/lib/python3.11/dist-packages/PIL/Image.py:1043: UserWarning: Palette images with Transparency expressed in bytes should be converted to RGBA images\n",
            "  warnings.warn(\n"
          ]
        },
        {
          "output_type": "stream",
          "name": "stdout",
          "text": [
            "\u001b[1m122/122\u001b[0m \u001b[32m━━━━━━━━━━━━━━━━━━━━\u001b[0m\u001b[37m\u001b[0m \u001b[1m0s\u001b[0m 462ms/step - accuracy: 0.4210 - loss: 1.8949\n",
            "Epoch 1: val_accuracy improved from -inf to 0.14423, saving model to best_vehicle_classifier_model.keras\n",
            "\u001b[1m122/122\u001b[0m \u001b[32m━━━━━━━━━━━━━━━━━━━━\u001b[0m\u001b[37m\u001b[0m \u001b[1m76s\u001b[0m 529ms/step - accuracy: 0.4217 - loss: 1.8927 - val_accuracy: 0.1442 - val_loss: 7.1438 - learning_rate: 5.0000e-04\n",
            "Epoch 2/75\n",
            "\u001b[1m  1/122\u001b[0m \u001b[37m━━━━━━━━━━━━━━━━━━━━\u001b[0m \u001b[1m5s\u001b[0m 46ms/step - accuracy: 0.6250 - loss: 1.2514"
          ]
        },
        {
          "output_type": "stream",
          "name": "stderr",
          "text": [
            "/usr/local/lib/python3.11/dist-packages/keras/src/trainers/epoch_iterator.py:107: UserWarning: Your input ran out of data; interrupting training. Make sure that your dataset or generator can generate at least `steps_per_epoch * epochs` batches. You may need to use the `.repeat()` function when building your dataset.\n",
            "  self._interrupted_warning()\n"
          ]
        },
        {
          "output_type": "stream",
          "name": "stdout",
          "text": [
            "\n",
            "Epoch 2: val_accuracy did not improve from 0.14423\n",
            "\u001b[1m122/122\u001b[0m \u001b[32m━━━━━━━━━━━━━━━━━━━━\u001b[0m\u001b[37m\u001b[0m \u001b[1m6s\u001b[0m 47ms/step - accuracy: 0.6250 - loss: 1.2514 - val_accuracy: 0.1442 - val_loss: 7.0348 - learning_rate: 5.0000e-04\n",
            "Epoch 3/75\n",
            "\u001b[1m122/122\u001b[0m \u001b[32m━━━━━━━━━━━━━━━━━━━━\u001b[0m\u001b[37m\u001b[0m \u001b[1m0s\u001b[0m 408ms/step - accuracy: 0.6129 - loss: 1.2537\n",
            "Epoch 3: val_accuracy did not improve from 0.14423\n",
            "\u001b[1m122/122\u001b[0m \u001b[32m━━━━━━━━━━━━━━━━━━━━\u001b[0m\u001b[37m\u001b[0m \u001b[1m59s\u001b[0m 454ms/step - accuracy: 0.6131 - loss: 1.2533 - val_accuracy: 0.1442 - val_loss: 5.9224 - learning_rate: 5.0000e-04\n",
            "Epoch 4/75\n",
            "\u001b[1m  1/122\u001b[0m \u001b[37m━━━━━━━━━━━━━━━━━━━━\u001b[0m \u001b[1m5s\u001b[0m 45ms/step - accuracy: 0.7188 - loss: 1.1064\n",
            "Epoch 4: val_accuracy did not improve from 0.14423\n",
            "\u001b[1m122/122\u001b[0m \u001b[32m━━━━━━━━━━━━━━━━━━━━\u001b[0m\u001b[37m\u001b[0m \u001b[1m6s\u001b[0m 49ms/step - accuracy: 0.7188 - loss: 1.1064 - val_accuracy: 0.1442 - val_loss: 5.9591 - learning_rate: 5.0000e-04\n",
            "Epoch 5/75\n",
            "\u001b[1m122/122\u001b[0m \u001b[32m━━━━━━━━━━━━━━━━━━━━\u001b[0m\u001b[37m\u001b[0m \u001b[1m0s\u001b[0m 466ms/step - accuracy: 0.6778 - loss: 1.0878\n",
            "Epoch 5: val_accuracy improved from 0.14423 to 0.37861, saving model to best_vehicle_classifier_model.keras\n",
            "\u001b[1m122/122\u001b[0m \u001b[32m━━━━━━━━━━━━━━━━━━━━\u001b[0m\u001b[37m\u001b[0m \u001b[1m64s\u001b[0m 526ms/step - accuracy: 0.6779 - loss: 1.0876 - val_accuracy: 0.3786 - val_loss: 2.7126 - learning_rate: 5.0000e-04\n",
            "Epoch 6/75\n",
            "\u001b[1m  1/122\u001b[0m \u001b[37m━━━━━━━━━━━━━━━━━━━━\u001b[0m \u001b[1m5s\u001b[0m 48ms/step - accuracy: 0.7812 - loss: 0.7942\n",
            "Epoch 6: val_accuracy did not improve from 0.37861\n",
            "\u001b[1m122/122\u001b[0m \u001b[32m━━━━━━━━━━━━━━━━━━━━\u001b[0m\u001b[37m\u001b[0m \u001b[1m9s\u001b[0m 72ms/step - accuracy: 0.7812 - loss: 0.7942 - val_accuracy: 0.3750 - val_loss: 2.7212 - learning_rate: 5.0000e-04\n",
            "Epoch 7/75\n",
            "\u001b[1m122/122\u001b[0m \u001b[32m━━━━━━━━━━━━━━━━━━━━\u001b[0m\u001b[37m\u001b[0m \u001b[1m0s\u001b[0m 412ms/step - accuracy: 0.7152 - loss: 0.9879\n",
            "Epoch 7: val_accuracy improved from 0.37861 to 0.60096, saving model to best_vehicle_classifier_model.keras\n",
            "\u001b[1m122/122\u001b[0m \u001b[32m━━━━━━━━━━━━━━━━━━━━\u001b[0m\u001b[37m\u001b[0m \u001b[1m82s\u001b[0m 672ms/step - accuracy: 0.7152 - loss: 0.9879 - val_accuracy: 0.6010 - val_loss: 1.6662 - learning_rate: 5.0000e-04\n",
            "Epoch 8/75\n",
            "\u001b[1m  1/122\u001b[0m \u001b[37m━━━━━━━━━━━━━━━━━━━━\u001b[0m \u001b[1m5s\u001b[0m 49ms/step - accuracy: 0.8438 - loss: 0.8490\n",
            "Epoch 8: val_accuracy did not improve from 0.60096\n",
            "\u001b[1m122/122\u001b[0m \u001b[32m━━━━━━━━━━━━━━━━━━━━\u001b[0m\u001b[37m\u001b[0m \u001b[1m10s\u001b[0m 81ms/step - accuracy: 0.8438 - loss: 0.8490 - val_accuracy: 0.5974 - val_loss: 1.6938 - learning_rate: 5.0000e-04\n",
            "Epoch 9/75\n",
            "\u001b[1m122/122\u001b[0m \u001b[32m━━━━━━━━━━━━━━━━━━━━\u001b[0m\u001b[37m\u001b[0m \u001b[1m0s\u001b[0m 410ms/step - accuracy: 0.7463 - loss: 0.9169\n",
            "Epoch 9: val_accuracy improved from 0.60096 to 0.64663, saving model to best_vehicle_classifier_model.keras\n",
            "\u001b[1m122/122\u001b[0m \u001b[32m━━━━━━━━━━━━━━━━━━━━\u001b[0m\u001b[37m\u001b[0m \u001b[1m57s\u001b[0m 467ms/step - accuracy: 0.7464 - loss: 0.9168 - val_accuracy: 0.6466 - val_loss: 1.6584 - learning_rate: 5.0000e-04\n",
            "Epoch 10/75\n",
            "\u001b[1m  1/122\u001b[0m \u001b[37m━━━━━━━━━━━━━━━━━━━━\u001b[0m \u001b[1m5s\u001b[0m 46ms/step - accuracy: 0.7500 - loss: 1.0509\n",
            "Epoch 10: val_accuracy improved from 0.64663 to 0.66827, saving model to best_vehicle_classifier_model.keras\n",
            "\u001b[1m122/122\u001b[0m \u001b[32m━━━━━━━━━━━━━━━━━━━━\u001b[0m\u001b[37m\u001b[0m \u001b[1m6s\u001b[0m 46ms/step - accuracy: 0.7500 - loss: 1.0509 - val_accuracy: 0.6683 - val_loss: 1.5281 - learning_rate: 5.0000e-04\n",
            "Epoch 11/75\n",
            "\u001b[1m122/122\u001b[0m \u001b[32m━━━━━━━━━━━━━━━━━━━━\u001b[0m\u001b[37m\u001b[0m \u001b[1m0s\u001b[0m 397ms/step - accuracy: 0.7534 - loss: 0.8764\n",
            "Epoch 11: val_accuracy did not improve from 0.66827\n",
            "\u001b[1m122/122\u001b[0m \u001b[32m━━━━━━━━━━━━━━━━━━━━\u001b[0m\u001b[37m\u001b[0m \u001b[1m82s\u001b[0m 669ms/step - accuracy: 0.7534 - loss: 0.8763 - val_accuracy: 0.5385 - val_loss: 1.7953 - learning_rate: 5.0000e-04\n",
            "Epoch 12/75\n",
            "\u001b[1m  1/122\u001b[0m \u001b[37m━━━━━━━━━━━━━━━━━━━━\u001b[0m \u001b[1m5s\u001b[0m 45ms/step - accuracy: 0.7500 - loss: 0.7153\n",
            "Epoch 12: val_accuracy did not improve from 0.66827\n",
            "\u001b[1m122/122\u001b[0m \u001b[32m━━━━━━━━━━━━━━━━━━━━\u001b[0m\u001b[37m\u001b[0m \u001b[1m6s\u001b[0m 49ms/step - accuracy: 0.7500 - loss: 0.7153 - val_accuracy: 0.5373 - val_loss: 1.8348 - learning_rate: 5.0000e-04\n",
            "Epoch 13/75\n",
            "\u001b[1m122/122\u001b[0m \u001b[32m━━━━━━━━━━━━━━━━━━━━\u001b[0m\u001b[37m\u001b[0m \u001b[1m0s\u001b[0m 400ms/step - accuracy: 0.7966 - loss: 0.7647\n",
            "Epoch 13: val_accuracy improved from 0.66827 to 0.73197, saving model to best_vehicle_classifier_model.keras\n",
            "\u001b[1m122/122\u001b[0m \u001b[32m━━━━━━━━━━━━━━━━━━━━\u001b[0m\u001b[37m\u001b[0m \u001b[1m82s\u001b[0m 674ms/step - accuracy: 0.7966 - loss: 0.7646 - val_accuracy: 0.7320 - val_loss: 1.0867 - learning_rate: 5.0000e-04\n",
            "Epoch 14/75\n",
            "\u001b[1m  1/122\u001b[0m \u001b[37m━━━━━━━━━━━━━━━━━━━━\u001b[0m \u001b[1m5s\u001b[0m 45ms/step - accuracy: 0.7500 - loss: 0.7757\n",
            "Epoch 14: val_accuracy did not improve from 0.73197\n",
            "\u001b[1m122/122\u001b[0m \u001b[32m━━━━━━━━━━━━━━━━━━━━\u001b[0m\u001b[37m\u001b[0m \u001b[1m5s\u001b[0m 43ms/step - accuracy: 0.7500 - loss: 0.7757 - val_accuracy: 0.7236 - val_loss: 1.1024 - learning_rate: 5.0000e-04\n",
            "Epoch 15/75\n",
            "\u001b[1m122/122\u001b[0m \u001b[32m━━━━━━━━━━━━━━━━━━━━\u001b[0m\u001b[37m\u001b[0m \u001b[1m0s\u001b[0m 407ms/step - accuracy: 0.7849 - loss: 0.7795\n",
            "Epoch 15: val_accuracy did not improve from 0.73197\n",
            "\u001b[1m122/122\u001b[0m \u001b[32m━━━━━━━━━━━━━━━━━━━━\u001b[0m\u001b[37m\u001b[0m \u001b[1m56s\u001b[0m 458ms/step - accuracy: 0.7850 - loss: 0.7794 - val_accuracy: 0.3389 - val_loss: 6.0022 - learning_rate: 5.0000e-04\n",
            "Epoch 16/75\n",
            "\u001b[1m  1/122\u001b[0m \u001b[37m━━━━━━━━━━━━━━━━━━━━\u001b[0m \u001b[1m5s\u001b[0m 47ms/step - accuracy: 0.7188 - loss: 1.0200\n",
            "Epoch 16: val_accuracy did not improve from 0.73197\n",
            "\u001b[1m122/122\u001b[0m \u001b[32m━━━━━━━━━━━━━━━━━━━━\u001b[0m\u001b[37m\u001b[0m \u001b[1m5s\u001b[0m 44ms/step - accuracy: 0.7188 - loss: 1.0200 - val_accuracy: 0.3462 - val_loss: 5.7692 - learning_rate: 5.0000e-04\n",
            "Epoch 17/75\n",
            "\u001b[1m122/122\u001b[0m \u001b[32m━━━━━━━━━━━━━━━━━━━━\u001b[0m\u001b[37m\u001b[0m \u001b[1m0s\u001b[0m 405ms/step - accuracy: 0.8004 - loss: 0.7429\n",
            "Epoch 17: val_accuracy did not improve from 0.73197\n",
            "\u001b[1m122/122\u001b[0m \u001b[32m━━━━━━━━━━━━━━━━━━━━\u001b[0m\u001b[37m\u001b[0m \u001b[1m82s\u001b[0m 505ms/step - accuracy: 0.8005 - loss: 0.7428 - val_accuracy: 0.7248 - val_loss: 1.2299 - learning_rate: 5.0000e-04\n",
            "Epoch 18/75\n",
            "\u001b[1m  1/122\u001b[0m \u001b[37m━━━━━━━━━━━━━━━━━━━━\u001b[0m \u001b[1m5s\u001b[0m 45ms/step - accuracy: 0.7500 - loss: 0.7783\n",
            "Epoch 18: val_accuracy improved from 0.73197 to 0.78486, saving model to best_vehicle_classifier_model.keras\n",
            "\u001b[1m122/122\u001b[0m \u001b[32m━━━━━━━━━━━━━━━━━━━━\u001b[0m\u001b[37m\u001b[0m \u001b[1m6s\u001b[0m 48ms/step - accuracy: 0.7500 - loss: 0.7783 - val_accuracy: 0.7849 - val_loss: 0.9504 - learning_rate: 5.0000e-04\n",
            "Epoch 19/75\n",
            "\u001b[1m122/122\u001b[0m \u001b[32m━━━━━━━━━━━━━━━━━━━━\u001b[0m\u001b[37m\u001b[0m \u001b[1m0s\u001b[0m 404ms/step - accuracy: 0.8253 - loss: 0.6875\n",
            "Epoch 19: val_accuracy did not improve from 0.78486\n",
            "\u001b[1m122/122\u001b[0m \u001b[32m━━━━━━━━━━━━━━━━━━━━\u001b[0m\u001b[37m\u001b[0m \u001b[1m70s\u001b[0m 450ms/step - accuracy: 0.8253 - loss: 0.6875 - val_accuracy: 0.7849 - val_loss: 0.8888 - learning_rate: 5.0000e-04\n",
            "Epoch 20/75\n",
            "\u001b[1m  1/122\u001b[0m \u001b[37m━━━━━━━━━━━━━━━━━━━━\u001b[0m \u001b[1m5s\u001b[0m 45ms/step - accuracy: 0.8125 - loss: 0.8466\n",
            "Epoch 20: val_accuracy improved from 0.78486 to 0.78846, saving model to best_vehicle_classifier_model.keras\n",
            "\u001b[1m122/122\u001b[0m \u001b[32m━━━━━━━━━━━━━━━━━━━━\u001b[0m\u001b[37m\u001b[0m \u001b[1m6s\u001b[0m 51ms/step - accuracy: 0.8125 - loss: 0.8466 - val_accuracy: 0.7885 - val_loss: 0.8946 - learning_rate: 5.0000e-04\n",
            "Epoch 21/75\n",
            "\u001b[1m122/122\u001b[0m \u001b[32m━━━━━━━━━━━━━━━━━━━━\u001b[0m\u001b[37m\u001b[0m \u001b[1m0s\u001b[0m 404ms/step - accuracy: 0.8281 - loss: 0.6670\n",
            "Epoch 21: val_accuracy did not improve from 0.78846\n",
            "\u001b[1m122/122\u001b[0m \u001b[32m━━━━━━━━━━━━━━━━━━━━\u001b[0m\u001b[37m\u001b[0m \u001b[1m75s\u001b[0m 449ms/step - accuracy: 0.8281 - loss: 0.6669 - val_accuracy: 0.7632 - val_loss: 0.9585 - learning_rate: 5.0000e-04\n",
            "Epoch 22/75\n",
            "\u001b[1m  1/122\u001b[0m \u001b[37m━━━━━━━━━━━━━━━━━━━━\u001b[0m \u001b[1m5s\u001b[0m 45ms/step - accuracy: 0.6875 - loss: 0.9518\n",
            "Epoch 22: val_accuracy did not improve from 0.78846\n",
            "\u001b[1m122/122\u001b[0m \u001b[32m━━━━━━━━━━━━━━━━━━━━\u001b[0m\u001b[37m\u001b[0m \u001b[1m6s\u001b[0m 48ms/step - accuracy: 0.6875 - loss: 0.9518 - val_accuracy: 0.7728 - val_loss: 0.9486 - learning_rate: 5.0000e-04\n",
            "Epoch 23/75\n",
            "\u001b[1m122/122\u001b[0m \u001b[32m━━━━━━━━━━━━━━━━━━━━\u001b[0m\u001b[37m\u001b[0m \u001b[1m0s\u001b[0m 405ms/step - accuracy: 0.8465 - loss: 0.6343\n",
            "Epoch 23: val_accuracy did not improve from 0.78846\n",
            "\u001b[1m122/122\u001b[0m \u001b[32m━━━━━━━━━━━━━━━━━━━━\u001b[0m\u001b[37m\u001b[0m \u001b[1m81s\u001b[0m 489ms/step - accuracy: 0.8464 - loss: 0.6344 - val_accuracy: 0.7788 - val_loss: 0.8542 - learning_rate: 5.0000e-04\n",
            "Epoch 24/75\n",
            "\u001b[1m  1/122\u001b[0m \u001b[37m━━━━━━━━━━━━━━━━━━━━\u001b[0m \u001b[1m5s\u001b[0m 45ms/step - accuracy: 0.7812 - loss: 0.7038\n",
            "Epoch 24: val_accuracy did not improve from 0.78846\n",
            "\u001b[1m122/122\u001b[0m \u001b[32m━━━━━━━━━━━━━━━━━━━━\u001b[0m\u001b[37m\u001b[0m \u001b[1m6s\u001b[0m 49ms/step - accuracy: 0.7812 - loss: 0.7038 - val_accuracy: 0.7560 - val_loss: 0.9065 - learning_rate: 5.0000e-04\n",
            "Epoch 25/75\n",
            "\u001b[1m122/122\u001b[0m \u001b[32m━━━━━━━━━━━━━━━━━━━━\u001b[0m\u001b[37m\u001b[0m \u001b[1m0s\u001b[0m 407ms/step - accuracy: 0.8447 - loss: 0.6241\n",
            "Epoch 25: val_accuracy improved from 0.78846 to 0.87260, saving model to best_vehicle_classifier_model.keras\n",
            "\u001b[1m122/122\u001b[0m \u001b[32m━━━━━━━━━━━━━━━━━━━━\u001b[0m\u001b[37m\u001b[0m \u001b[1m55s\u001b[0m 454ms/step - accuracy: 0.8447 - loss: 0.6241 - val_accuracy: 0.8726 - val_loss: 0.5798 - learning_rate: 5.0000e-04\n",
            "Epoch 26/75\n",
            "\u001b[1m  1/122\u001b[0m \u001b[37m━━━━━━━━━━━━━━━━━━━━\u001b[0m \u001b[1m5s\u001b[0m 46ms/step - accuracy: 0.7812 - loss: 0.7800\n",
            "Epoch 26: val_accuracy improved from 0.87260 to 0.87740, saving model to best_vehicle_classifier_model.keras\n",
            "\u001b[1m122/122\u001b[0m \u001b[32m━━━━━━━━━━━━━━━━━━━━\u001b[0m\u001b[37m\u001b[0m \u001b[1m6s\u001b[0m 52ms/step - accuracy: 0.7812 - loss: 0.7800 - val_accuracy: 0.8774 - val_loss: 0.5589 - learning_rate: 5.0000e-04\n",
            "Epoch 27/75\n",
            "\u001b[1m122/122\u001b[0m \u001b[32m━━━━━━━━━━━━━━━━━━━━\u001b[0m\u001b[37m\u001b[0m \u001b[1m0s\u001b[0m 410ms/step - accuracy: 0.8610 - loss: 0.5773\n",
            "Epoch 27: val_accuracy did not improve from 0.87740\n",
            "\u001b[1m122/122\u001b[0m \u001b[32m━━━━━━━━━━━━━━━━━━━━\u001b[0m\u001b[37m\u001b[0m \u001b[1m76s\u001b[0m 456ms/step - accuracy: 0.8609 - loss: 0.5774 - val_accuracy: 0.7728 - val_loss: 1.2232 - learning_rate: 5.0000e-04\n",
            "Epoch 28/75\n",
            "\u001b[1m  1/122\u001b[0m \u001b[37m━━━━━━━━━━━━━━━━━━━━\u001b[0m \u001b[1m5s\u001b[0m 46ms/step - accuracy: 0.8438 - loss: 0.5667\n",
            "Epoch 28: val_accuracy did not improve from 0.87740\n",
            "\u001b[1m122/122\u001b[0m \u001b[32m━━━━━━━━━━━━━━━━━━━━\u001b[0m\u001b[37m\u001b[0m \u001b[1m6s\u001b[0m 50ms/step - accuracy: 0.8438 - loss: 0.5667 - val_accuracy: 0.7704 - val_loss: 1.2437 - learning_rate: 5.0000e-04\n",
            "Epoch 29/75\n",
            "\u001b[1m122/122\u001b[0m \u001b[32m━━━━━━━━━━━━━━━━━━━━\u001b[0m\u001b[37m\u001b[0m \u001b[1m0s\u001b[0m 405ms/step - accuracy: 0.8510 - loss: 0.6193\n",
            "Epoch 29: val_accuracy did not improve from 0.87740\n",
            "\u001b[1m122/122\u001b[0m \u001b[32m━━━━━━━━━━━━━━━━━━━━\u001b[0m\u001b[37m\u001b[0m \u001b[1m82s\u001b[0m 503ms/step - accuracy: 0.8510 - loss: 0.6194 - val_accuracy: 0.8498 - val_loss: 0.6765 - learning_rate: 5.0000e-04\n",
            "Epoch 30/75\n",
            "\u001b[1m  1/122\u001b[0m \u001b[37m━━━━━━━━━━━━━━━━━━━━\u001b[0m \u001b[1m6s\u001b[0m 51ms/step - accuracy: 0.8750 - loss: 0.6223\n",
            "Epoch 30: val_accuracy did not improve from 0.87740\n",
            "\u001b[1m122/122\u001b[0m \u001b[32m━━━━━━━━━━━━━━━━━━━━\u001b[0m\u001b[37m\u001b[0m \u001b[1m9s\u001b[0m 78ms/step - accuracy: 0.8750 - loss: 0.6223 - val_accuracy: 0.8365 - val_loss: 0.7467 - learning_rate: 5.0000e-04\n",
            "Epoch 31/75\n",
            "\u001b[1m122/122\u001b[0m \u001b[32m━━━━━━━━━━━━━━━━━━━━\u001b[0m\u001b[37m\u001b[0m \u001b[1m0s\u001b[0m 406ms/step - accuracy: 0.8591 - loss: 0.5823\n",
            "Epoch 31: val_accuracy did not improve from 0.87740\n",
            "\u001b[1m122/122\u001b[0m \u001b[32m━━━━━━━━━━━━━━━━━━━━\u001b[0m\u001b[37m\u001b[0m \u001b[1m56s\u001b[0m 458ms/step - accuracy: 0.8591 - loss: 0.5822 - val_accuracy: 0.8750 - val_loss: 0.5381 - learning_rate: 5.0000e-04\n",
            "Epoch 32/75\n",
            "\u001b[1m  1/122\u001b[0m \u001b[37m━━━━━━━━━━━━━━━━━━━━\u001b[0m \u001b[1m5s\u001b[0m 45ms/step - accuracy: 0.9688 - loss: 0.3414\n",
            "Epoch 32: val_accuracy did not improve from 0.87740\n",
            "\u001b[1m122/122\u001b[0m \u001b[32m━━━━━━━━━━━━━━━━━━━━\u001b[0m\u001b[37m\u001b[0m \u001b[1m10s\u001b[0m 81ms/step - accuracy: 0.9688 - loss: 0.3414 - val_accuracy: 0.8618 - val_loss: 0.5803 - learning_rate: 5.0000e-04\n",
            "Epoch 33/75\n",
            "\u001b[1m122/122\u001b[0m \u001b[32m━━━━━━━━━━━━━━━━━━━━\u001b[0m\u001b[37m\u001b[0m \u001b[1m0s\u001b[0m 407ms/step - accuracy: 0.8573 - loss: 0.5827\n",
            "Epoch 33: val_accuracy did not improve from 0.87740\n",
            "\u001b[1m122/122\u001b[0m \u001b[32m━━━━━━━━━━━━━━━━━━━━\u001b[0m\u001b[37m\u001b[0m \u001b[1m72s\u001b[0m 458ms/step - accuracy: 0.8574 - loss: 0.5828 - val_accuracy: 0.7560 - val_loss: 1.0380 - learning_rate: 5.0000e-04\n",
            "Epoch 34/75\n",
            "\u001b[1m  1/122\u001b[0m \u001b[37m━━━━━━━━━━━━━━━━━━━━\u001b[0m \u001b[1m5s\u001b[0m 47ms/step - accuracy: 0.8438 - loss: 0.6213\n",
            "Epoch 34: val_accuracy did not improve from 0.87740\n",
            "\u001b[1m122/122\u001b[0m \u001b[32m━━━━━━━━━━━━━━━━━━━━\u001b[0m\u001b[37m\u001b[0m \u001b[1m5s\u001b[0m 44ms/step - accuracy: 0.8438 - loss: 0.6213 - val_accuracy: 0.7464 - val_loss: 1.0671 - learning_rate: 5.0000e-04\n",
            "Epoch 35/75\n",
            "\u001b[1m122/122\u001b[0m \u001b[32m━━━━━━━━━━━━━━━━━━━━\u001b[0m\u001b[37m\u001b[0m \u001b[1m0s\u001b[0m 411ms/step - accuracy: 0.8704 - loss: 0.5581\n",
            "Epoch 35: val_accuracy did not improve from 0.87740\n",
            "\u001b[1m122/122\u001b[0m \u001b[32m━━━━━━━━━━━━━━━━━━━━\u001b[0m\u001b[37m\u001b[0m \u001b[1m82s\u001b[0m 675ms/step - accuracy: 0.8704 - loss: 0.5580 - val_accuracy: 0.8486 - val_loss: 0.6985 - learning_rate: 5.0000e-04\n",
            "Epoch 36/75\n",
            "\u001b[1m  1/122\u001b[0m \u001b[37m━━━━━━━━━━━━━━━━━━━━\u001b[0m \u001b[1m5s\u001b[0m 46ms/step - accuracy: 0.9375 - loss: 0.4842\n",
            "Epoch 36: val_accuracy did not improve from 0.87740\n",
            "\u001b[1m122/122\u001b[0m \u001b[32m━━━━━━━━━━━━━━━━━━━━\u001b[0m\u001b[37m\u001b[0m \u001b[1m6s\u001b[0m 46ms/step - accuracy: 0.9375 - loss: 0.4842 - val_accuracy: 0.8425 - val_loss: 0.7466 - learning_rate: 5.0000e-04\n",
            "Epoch 37/75\n",
            "\u001b[1m122/122\u001b[0m \u001b[32m━━━━━━━━━━━━━━━━━━━━\u001b[0m\u001b[37m\u001b[0m \u001b[1m0s\u001b[0m 403ms/step - accuracy: 0.8706 - loss: 0.5655\n",
            "Epoch 37: val_accuracy improved from 0.87740 to 0.88702, saving model to best_vehicle_classifier_model.keras\n",
            "\u001b[1m122/122\u001b[0m \u001b[32m━━━━━━━━━━━━━━━━━━━━\u001b[0m\u001b[37m\u001b[0m \u001b[1m56s\u001b[0m 454ms/step - accuracy: 0.8706 - loss: 0.5654 - val_accuracy: 0.8870 - val_loss: 0.5150 - learning_rate: 5.0000e-04\n",
            "Epoch 38/75\n",
            "\u001b[1m  1/122\u001b[0m \u001b[37m━━━━━━━━━━━━━━━━━━━━\u001b[0m \u001b[1m5s\u001b[0m 45ms/step - accuracy: 0.9375 - loss: 0.3962\n",
            "Epoch 38: val_accuracy improved from 0.88702 to 0.89423, saving model to best_vehicle_classifier_model.keras\n",
            "\u001b[1m122/122\u001b[0m \u001b[32m━━━━━━━━━━━━━━━━━━━━\u001b[0m\u001b[37m\u001b[0m \u001b[1m6s\u001b[0m 49ms/step - accuracy: 0.9375 - loss: 0.3962 - val_accuracy: 0.8942 - val_loss: 0.5149 - learning_rate: 5.0000e-04\n",
            "Epoch 39/75\n",
            "\u001b[1m122/122\u001b[0m \u001b[32m━━━━━━━━━━━━━━━━━━━━\u001b[0m\u001b[37m\u001b[0m \u001b[1m0s\u001b[0m 407ms/step - accuracy: 0.8700 - loss: 0.5614\n",
            "Epoch 39: val_accuracy did not improve from 0.89423\n",
            "\u001b[1m122/122\u001b[0m \u001b[32m━━━━━━━━━━━━━━━━━━━━\u001b[0m\u001b[37m\u001b[0m \u001b[1m76s\u001b[0m 458ms/step - accuracy: 0.8700 - loss: 0.5613 - val_accuracy: 0.8678 - val_loss: 0.6840 - learning_rate: 5.0000e-04\n",
            "Epoch 40/75\n",
            "\u001b[1m  1/122\u001b[0m \u001b[37m━━━━━━━━━━━━━━━━━━━━\u001b[0m \u001b[1m5s\u001b[0m 45ms/step - accuracy: 0.9375 - loss: 0.4671\n",
            "Epoch 40: val_accuracy did not improve from 0.89423\n",
            "\u001b[1m122/122\u001b[0m \u001b[32m━━━━━━━━━━━━━━━━━━━━\u001b[0m\u001b[37m\u001b[0m \u001b[1m5s\u001b[0m 44ms/step - accuracy: 0.9375 - loss: 0.4671 - val_accuracy: 0.8534 - val_loss: 0.7246 - learning_rate: 5.0000e-04\n",
            "Epoch 41/75\n",
            "\u001b[1m122/122\u001b[0m \u001b[32m━━━━━━━━━━━━━━━━━━━━\u001b[0m\u001b[37m\u001b[0m \u001b[1m0s\u001b[0m 409ms/step - accuracy: 0.8651 - loss: 0.5520\n",
            "Epoch 41: val_accuracy did not improve from 0.89423\n",
            "\u001b[1m122/122\u001b[0m \u001b[32m━━━━━━━━━━━━━━━━━━━━\u001b[0m\u001b[37m\u001b[0m \u001b[1m77s\u001b[0m 460ms/step - accuracy: 0.8652 - loss: 0.5519 - val_accuracy: 0.8666 - val_loss: 0.7069 - learning_rate: 5.0000e-04\n",
            "Epoch 42/75\n",
            "\u001b[1m  1/122\u001b[0m \u001b[37m━━━━━━━━━━━━━━━━━━━━\u001b[0m \u001b[1m5s\u001b[0m 46ms/step - accuracy: 0.9688 - loss: 0.3274\n",
            "Epoch 42: val_accuracy did not improve from 0.89423\n",
            "\u001b[1m122/122\u001b[0m \u001b[32m━━━━━━━━━━━━━━━━━━━━\u001b[0m\u001b[37m\u001b[0m \u001b[1m5s\u001b[0m 44ms/step - accuracy: 0.9688 - loss: 0.3274 - val_accuracy: 0.8293 - val_loss: 0.8803 - learning_rate: 5.0000e-04\n",
            "Epoch 43/75\n",
            "\u001b[1m122/122\u001b[0m \u001b[32m━━━━━━━━━━━━━━━━━━━━\u001b[0m\u001b[37m\u001b[0m \u001b[1m0s\u001b[0m 410ms/step - accuracy: 0.8965 - loss: 0.4841\n",
            "Epoch 43: val_accuracy did not improve from 0.89423\n",
            "\u001b[1m122/122\u001b[0m \u001b[32m━━━━━━━━━━━━━━━━━━━━\u001b[0m\u001b[37m\u001b[0m \u001b[1m77s\u001b[0m 460ms/step - accuracy: 0.8964 - loss: 0.4844 - val_accuracy: 0.6755 - val_loss: 2.0386 - learning_rate: 5.0000e-04\n",
            "Epoch 44/75\n",
            "\u001b[1m  1/122\u001b[0m \u001b[37m━━━━━━━━━━━━━━━━━━━━\u001b[0m \u001b[1m6s\u001b[0m 54ms/step - accuracy: 0.8750 - loss: 0.5037\n",
            "Epoch 44: val_accuracy did not improve from 0.89423\n",
            "\n",
            "Epoch 44: ReduceLROnPlateau reducing learning rate to 0.00010000000474974513.\n",
            "\u001b[1m122/122\u001b[0m \u001b[32m━━━━━━━━━━━━━━━━━━━━\u001b[0m\u001b[37m\u001b[0m \u001b[1m5s\u001b[0m 44ms/step - accuracy: 0.8750 - loss: 0.5037 - val_accuracy: 0.6599 - val_loss: 2.1406 - learning_rate: 5.0000e-04\n",
            "Epoch 45/75\n",
            "\u001b[1m122/122\u001b[0m \u001b[32m━━━━━━━━━━━━━━━━━━━━\u001b[0m\u001b[37m\u001b[0m \u001b[1m0s\u001b[0m 405ms/step - accuracy: 0.9033 - loss: 0.4818\n",
            "Epoch 45: val_accuracy did not improve from 0.89423\n",
            "\u001b[1m122/122\u001b[0m \u001b[32m━━━━━━━━━━━━━━━━━━━━\u001b[0m\u001b[37m\u001b[0m \u001b[1m55s\u001b[0m 454ms/step - accuracy: 0.9033 - loss: 0.4815 - val_accuracy: 0.8846 - val_loss: 0.5759 - learning_rate: 1.0000e-04\n",
            "Epoch 46/75\n",
            "\u001b[1m  1/122\u001b[0m \u001b[37m━━━━━━━━━━━━━━━━━━━━\u001b[0m \u001b[1m5s\u001b[0m 48ms/step - accuracy: 0.9688 - loss: 0.3683\n",
            "Epoch 46: val_accuracy did not improve from 0.89423\n",
            "\u001b[1m122/122\u001b[0m \u001b[32m━━━━━━━━━━━━━━━━━━━━\u001b[0m\u001b[37m\u001b[0m \u001b[1m9s\u001b[0m 78ms/step - accuracy: 0.9688 - loss: 0.3683 - val_accuracy: 0.8810 - val_loss: 0.5827 - learning_rate: 1.0000e-04\n",
            "Epoch 47/75\n",
            "\u001b[1m122/122\u001b[0m \u001b[32m━━━━━━━━━━━━━━━━━━━━\u001b[0m\u001b[37m\u001b[0m \u001b[1m0s\u001b[0m 406ms/step - accuracy: 0.9230 - loss: 0.4076\n",
            "Epoch 47: val_accuracy improved from 0.89423 to 0.92188, saving model to best_vehicle_classifier_model.keras\n",
            "\u001b[1m122/122\u001b[0m \u001b[32m━━━━━━━━━━━━━━━━━━━━\u001b[0m\u001b[37m\u001b[0m \u001b[1m83s\u001b[0m 537ms/step - accuracy: 0.9230 - loss: 0.4076 - val_accuracy: 0.9219 - val_loss: 0.4711 - learning_rate: 1.0000e-04\n",
            "Epoch 48/75\n",
            "\u001b[1m  1/122\u001b[0m \u001b[37m━━━━━━━━━━━━━━━━━━━━\u001b[0m \u001b[1m5s\u001b[0m 46ms/step - accuracy: 0.9062 - loss: 0.4346\n",
            "Epoch 48: val_accuracy did not improve from 0.92188\n",
            "\u001b[1m122/122\u001b[0m \u001b[32m━━━━━━━━━━━━━━━━━━━━\u001b[0m\u001b[37m\u001b[0m \u001b[1m6s\u001b[0m 50ms/step - accuracy: 0.9062 - loss: 0.4346 - val_accuracy: 0.9219 - val_loss: 0.4706 - learning_rate: 1.0000e-04\n",
            "Epoch 49/75\n",
            "\u001b[1m122/122\u001b[0m \u001b[32m━━━━━━━━━━━━━━━━━━━━\u001b[0m\u001b[37m\u001b[0m \u001b[1m0s\u001b[0m 405ms/step - accuracy: 0.9351 - loss: 0.3957\n",
            "Epoch 49: val_accuracy improved from 0.92188 to 0.92909, saving model to best_vehicle_classifier_model.keras\n",
            "\u001b[1m122/122\u001b[0m \u001b[32m━━━━━━━━━━━━━━━━━━━━\u001b[0m\u001b[37m\u001b[0m \u001b[1m82s\u001b[0m 590ms/step - accuracy: 0.9351 - loss: 0.3957 - val_accuracy: 0.9291 - val_loss: 0.4254 - learning_rate: 1.0000e-04\n",
            "Epoch 50/75\n",
            "\u001b[1m  1/122\u001b[0m \u001b[37m━━━━━━━━━━━━━━━━━━━━\u001b[0m \u001b[1m5s\u001b[0m 45ms/step - accuracy: 0.9375 - loss: 0.5954\n",
            "Epoch 50: val_accuracy did not improve from 0.92909\n",
            "\u001b[1m122/122\u001b[0m \u001b[32m━━━━━━━━━━━━━━━━━━━━\u001b[0m\u001b[37m\u001b[0m \u001b[1m5s\u001b[0m 43ms/step - accuracy: 0.9375 - loss: 0.5954 - val_accuracy: 0.9255 - val_loss: 0.4330 - learning_rate: 1.0000e-04\n",
            "Epoch 51/75\n",
            "\u001b[1m122/122\u001b[0m \u001b[32m━━━━━━━━━━━━━━━━━━━━\u001b[0m\u001b[37m\u001b[0m \u001b[1m0s\u001b[0m 404ms/step - accuracy: 0.9386 - loss: 0.3890\n",
            "Epoch 51: val_accuracy did not improve from 0.92909\n",
            "\u001b[1m122/122\u001b[0m \u001b[32m━━━━━━━━━━━━━━━━━━━━\u001b[0m\u001b[37m\u001b[0m \u001b[1m56s\u001b[0m 455ms/step - accuracy: 0.9386 - loss: 0.3889 - val_accuracy: 0.8906 - val_loss: 0.5652 - learning_rate: 1.0000e-04\n",
            "Epoch 52/75\n",
            "\u001b[1m  1/122\u001b[0m \u001b[37m━━━━━━━━━━━━━━━━━━━━\u001b[0m \u001b[1m5s\u001b[0m 45ms/step - accuracy: 0.9688 - loss: 0.2852\n",
            "Epoch 52: val_accuracy did not improve from 0.92909\n",
            "\u001b[1m122/122\u001b[0m \u001b[32m━━━━━━━━━━━━━━━━━━━━\u001b[0m\u001b[37m\u001b[0m \u001b[1m5s\u001b[0m 45ms/step - accuracy: 0.9688 - loss: 0.2852 - val_accuracy: 0.8894 - val_loss: 0.5670 - learning_rate: 1.0000e-04\n",
            "Epoch 53/75\n",
            "\u001b[1m122/122\u001b[0m \u001b[32m━━━━━━━━━━━━━━━━━━━━\u001b[0m\u001b[37m\u001b[0m \u001b[1m0s\u001b[0m 405ms/step - accuracy: 0.9341 - loss: 0.3787\n",
            "Epoch 53: val_accuracy did not improve from 0.92909\n",
            "\u001b[1m122/122\u001b[0m \u001b[32m━━━━━━━━━━━━━━━━━━━━\u001b[0m\u001b[37m\u001b[0m \u001b[1m82s\u001b[0m 674ms/step - accuracy: 0.9341 - loss: 0.3787 - val_accuracy: 0.9291 - val_loss: 0.4183 - learning_rate: 1.0000e-04\n",
            "Epoch 54/75\n",
            "\u001b[1m  1/122\u001b[0m \u001b[37m━━━━━━━━━━━━━━━━━━━━\u001b[0m \u001b[1m5s\u001b[0m 44ms/step - accuracy: 0.9062 - loss: 0.4372\n",
            "Epoch 54: val_accuracy did not improve from 0.92909\n",
            "\u001b[1m122/122\u001b[0m \u001b[32m━━━━━━━━━━━━━━━━━━━━\u001b[0m\u001b[37m\u001b[0m \u001b[1m5s\u001b[0m 45ms/step - accuracy: 0.9062 - loss: 0.4372 - val_accuracy: 0.9291 - val_loss: 0.4220 - learning_rate: 1.0000e-04\n",
            "Epoch 55/75\n",
            "\u001b[1m122/122\u001b[0m \u001b[32m━━━━━━━━━━━━━━━━━━━━\u001b[0m\u001b[37m\u001b[0m \u001b[1m0s\u001b[0m 407ms/step - accuracy: 0.9426 - loss: 0.3486\n",
            "Epoch 55: val_accuracy did not improve from 0.92909\n",
            "\u001b[1m122/122\u001b[0m \u001b[32m━━━━━━━━━━━━━━━━━━━━\u001b[0m\u001b[37m\u001b[0m \u001b[1m82s\u001b[0m 672ms/step - accuracy: 0.9425 - loss: 0.3488 - val_accuracy: 0.9050 - val_loss: 0.4973 - learning_rate: 1.0000e-04\n",
            "Epoch 56/75\n",
            "\u001b[1m  1/122\u001b[0m \u001b[37m━━━━━━━━━━━━━━━━━━━━\u001b[0m \u001b[1m5s\u001b[0m 47ms/step - accuracy: 0.9688 - loss: 0.4394\n",
            "Epoch 56: val_accuracy did not improve from 0.92909\n",
            "\u001b[1m122/122\u001b[0m \u001b[32m━━━━━━━━━━━━━━━━━━━━\u001b[0m\u001b[37m\u001b[0m \u001b[1m6s\u001b[0m 50ms/step - accuracy: 0.9688 - loss: 0.4394 - val_accuracy: 0.9062 - val_loss: 0.4861 - learning_rate: 1.0000e-04\n",
            "Epoch 57/75\n",
            "\u001b[1m122/122\u001b[0m \u001b[32m━━━━━━━━━━━━━━━━━━━━\u001b[0m\u001b[37m\u001b[0m \u001b[1m0s\u001b[0m 406ms/step - accuracy: 0.9391 - loss: 0.3530\n",
            "Epoch 57: val_accuracy did not improve from 0.92909\n",
            "\u001b[1m122/122\u001b[0m \u001b[32m━━━━━━━━━━━━━━━━━━━━\u001b[0m\u001b[37m\u001b[0m \u001b[1m142s\u001b[0m 722ms/step - accuracy: 0.9391 - loss: 0.3530 - val_accuracy: 0.8377 - val_loss: 0.7546 - learning_rate: 1.0000e-04\n",
            "Epoch 58/75\n",
            "\u001b[1m  1/122\u001b[0m \u001b[37m━━━━━━━━━━━━━━━━━━━━\u001b[0m \u001b[1m5s\u001b[0m 46ms/step - accuracy: 1.0000 - loss: 0.2972\n",
            "Epoch 58: val_accuracy did not improve from 0.92909\n",
            "\u001b[1m122/122\u001b[0m \u001b[32m━━━━━━━━━━━━━━━━━━━━\u001b[0m\u001b[37m\u001b[0m \u001b[1m5s\u001b[0m 43ms/step - accuracy: 1.0000 - loss: 0.2972 - val_accuracy: 0.8425 - val_loss: 0.7278 - learning_rate: 1.0000e-04\n",
            "Epoch 59/75\n",
            "\u001b[1m122/122\u001b[0m \u001b[32m━━━━━━━━━━━━━━━━━━━━\u001b[0m\u001b[37m\u001b[0m \u001b[1m0s\u001b[0m 401ms/step - accuracy: 0.9409 - loss: 0.3633\n",
            "Epoch 59: val_accuracy did not improve from 0.92909\n",
            "\u001b[1m122/122\u001b[0m \u001b[32m━━━━━━━━━━━━━━━━━━━━\u001b[0m\u001b[37m\u001b[0m \u001b[1m143s\u001b[0m 772ms/step - accuracy: 0.9409 - loss: 0.3633 - val_accuracy: 0.9026 - val_loss: 0.5103 - learning_rate: 1.0000e-04\n",
            "Epoch 60/75\n",
            "\u001b[1m  1/122\u001b[0m \u001b[37m━━━━━━━━━━━━━━━━━━━━\u001b[0m \u001b[1m5s\u001b[0m 46ms/step - accuracy: 0.9688 - loss: 0.3125\n",
            "Epoch 60: val_accuracy did not improve from 0.92909\n",
            "\n",
            "Epoch 60: ReduceLROnPlateau reducing learning rate to 2.0000000949949027e-05.\n",
            "\u001b[1m122/122\u001b[0m \u001b[32m━━━━━━━━━━━━━━━━━━━━\u001b[0m\u001b[37m\u001b[0m \u001b[1m5s\u001b[0m 44ms/step - accuracy: 0.9688 - loss: 0.3125 - val_accuracy: 0.9014 - val_loss: 0.5135 - learning_rate: 1.0000e-04\n",
            "Epoch 61/75\n",
            "\u001b[1m122/122\u001b[0m \u001b[32m━━━━━━━━━━━━━━━━━━━━\u001b[0m\u001b[37m\u001b[0m \u001b[1m0s\u001b[0m 404ms/step - accuracy: 0.9421 - loss: 0.3524\n",
            "Epoch 61: val_accuracy did not improve from 0.92909\n",
            "\u001b[1m122/122\u001b[0m \u001b[32m━━━━━━━━━━━━━━━━━━━━\u001b[0m\u001b[37m\u001b[0m \u001b[1m97s\u001b[0m 448ms/step - accuracy: 0.9422 - loss: 0.3523 - val_accuracy: 0.9075 - val_loss: 0.4785 - learning_rate: 2.0000e-05\n",
            "Epoch 62/75\n",
            "\u001b[1m  1/122\u001b[0m \u001b[37m━━━━━━━━━━━━━━━━━━━━\u001b[0m \u001b[1m5s\u001b[0m 46ms/step - accuracy: 0.9688 - loss: 0.3115\n",
            "Epoch 62: val_accuracy did not improve from 0.92909\n",
            "\u001b[1m122/122\u001b[0m \u001b[32m━━━━━━━━━━━━━━━━━━━━\u001b[0m\u001b[37m\u001b[0m \u001b[1m6s\u001b[0m 49ms/step - accuracy: 0.9688 - loss: 0.3115 - val_accuracy: 0.9062 - val_loss: 0.4793 - learning_rate: 2.0000e-05\n",
            "Epoch 63/75\n",
            "\u001b[1m122/122\u001b[0m \u001b[32m━━━━━━━━━━━━━━━━━━━━\u001b[0m\u001b[37m\u001b[0m \u001b[1m0s\u001b[0m 400ms/step - accuracy: 0.9465 - loss: 0.3355\n",
            "Epoch 63: val_accuracy did not improve from 0.92909\n",
            "\u001b[1m122/122\u001b[0m \u001b[32m━━━━━━━━━━━━━━━━━━━━\u001b[0m\u001b[37m\u001b[0m \u001b[1m82s\u001b[0m 502ms/step - accuracy: 0.9465 - loss: 0.3355 - val_accuracy: 0.9099 - val_loss: 0.4855 - learning_rate: 2.0000e-05\n",
            "Epoch 64/75\n",
            "\u001b[1m  1/122\u001b[0m \u001b[37m━━━━━━━━━━━━━━━━━━━━\u001b[0m \u001b[1m5s\u001b[0m 47ms/step - accuracy: 0.8750 - loss: 0.4476\n",
            "Epoch 64: val_accuracy did not improve from 0.92909\n",
            "\u001b[1m122/122\u001b[0m \u001b[32m━━━━━━━━━━━━━━━━━━━━\u001b[0m\u001b[37m\u001b[0m \u001b[1m9s\u001b[0m 78ms/step - accuracy: 0.8750 - loss: 0.4476 - val_accuracy: 0.9087 - val_loss: 0.4866 - learning_rate: 2.0000e-05\n",
            "Epoch 65/75\n",
            "\u001b[1m122/122\u001b[0m \u001b[32m━━━━━━━━━━━━━━━━━━━━\u001b[0m\u001b[37m\u001b[0m \u001b[1m0s\u001b[0m 408ms/step - accuracy: 0.9464 - loss: 0.3382\n",
            "Epoch 65: val_accuracy did not improve from 0.92909\n",
            "\u001b[1m122/122\u001b[0m \u001b[32m━━━━━━━━━━━━━━━━━━━━\u001b[0m\u001b[37m\u001b[0m \u001b[1m56s\u001b[0m 456ms/step - accuracy: 0.9464 - loss: 0.3382 - val_accuracy: 0.9062 - val_loss: 0.4978 - learning_rate: 2.0000e-05\n",
            "Epoch 66/75\n",
            "\u001b[1m  1/122\u001b[0m \u001b[37m━━━━━━━━━━━━━━━━━━━━\u001b[0m \u001b[1m5s\u001b[0m 49ms/step - accuracy: 0.8750 - loss: 0.4610\n",
            "Epoch 66: val_accuracy did not improve from 0.92909\n",
            "\u001b[1m122/122\u001b[0m \u001b[32m━━━━━━━━━━━━━━━━━━━━\u001b[0m\u001b[37m\u001b[0m \u001b[1m5s\u001b[0m 43ms/step - accuracy: 0.8750 - loss: 0.4610 - val_accuracy: 0.9062 - val_loss: 0.4998 - learning_rate: 2.0000e-05\n",
            "Epoch 67/75\n",
            "\u001b[1m122/122\u001b[0m \u001b[32m━━━━━━━━━━━━━━━━━━━━\u001b[0m\u001b[37m\u001b[0m \u001b[1m0s\u001b[0m 407ms/step - accuracy: 0.9542 - loss: 0.3241\n",
            "Epoch 67: val_accuracy did not improve from 0.92909\n",
            "\n",
            "Epoch 67: ReduceLROnPlateau reducing learning rate to 4.000000262749381e-06.\n",
            "\u001b[1m122/122\u001b[0m \u001b[32m━━━━━━━━━━━━━━━━━━━━\u001b[0m\u001b[37m\u001b[0m \u001b[1m77s\u001b[0m 457ms/step - accuracy: 0.9541 - loss: 0.3241 - val_accuracy: 0.9207 - val_loss: 0.4378 - learning_rate: 2.0000e-05\n",
            "Epoch 68/75\n",
            "\u001b[1m  1/122\u001b[0m \u001b[37m━━━━━━━━━━━━━━━━━━━━\u001b[0m \u001b[1m5s\u001b[0m 45ms/step - accuracy: 0.8438 - loss: 0.7342\n",
            "Epoch 68: val_accuracy did not improve from 0.92909\n",
            "\u001b[1m122/122\u001b[0m \u001b[32m━━━━━━━━━━━━━━━━━━━━\u001b[0m\u001b[37m\u001b[0m \u001b[1m5s\u001b[0m 44ms/step - accuracy: 0.8438 - loss: 0.7342 - val_accuracy: 0.9207 - val_loss: 0.4391 - learning_rate: 4.0000e-06\n",
            "Epoch 68: early stopping\n",
            "Restoring model weights from the end of the best epoch: 53.\n",
            "Training model selesai.\n"
          ]
        }
      ]
    },
    {
      "cell_type": "markdown",
      "source": [
        "## Evaluasi dan Visualisasi"
      ],
      "metadata": {
        "id": "-tPVcpFHkTRc"
      }
    },
    {
      "cell_type": "code",
      "source": [
        "print(\"\\nMemuat model terbaik untuk evaluasi akhir...\")\n",
        "# Model 'model' di memory sudah merupakan model dengan bobot terbaik karena restore_best_weights=True\n",
        "# Namun, untuk konsistensi dan jika terjadi interupsi, kita bisa load dari checkpoint.\n",
        "try:\n",
        "    loaded_best_model = tf.keras.models.load_model(checkpoint_path)\n",
        "    print(f\"Model terbaik dimuat dari {checkpoint_path}\")\n",
        "except Exception as e:\n",
        "    print(f\"Gagal memuat model dari checkpoint: {e}. Menggunakan model terakhir dari training.\")\n",
        "    loaded_best_model = model # Fallback ke model yang ada di memori\n",
        "\n",
        "print(\"\\nMengevaluasi model pada test set...\")\n",
        "test_loss, test_accuracy = loaded_best_model.evaluate(\n",
        "    test_generator,\n",
        "    steps=max(1, test_generator.samples // BATCH_SIZE), # Pastikan steps >= 1\n",
        "    verbose=1\n",
        ")\n",
        "print(f\"\\nTest Loss: {test_loss:.4f}\")\n",
        "print(f\"Test Accuracy: {test_accuracy*100:.2f}%\")\n",
        "\n",
        "# Ambil akurasi training terakhir dari history (jika history ada)\n",
        "if history and 'accuracy' in history.history:\n",
        "    final_train_accuracy = history.history['accuracy'][-1]\n",
        "    final_val_accuracy = history.history['val_accuracy'][-1]\n",
        "    print(f\"Final Training Accuracy (dari history): {final_train_accuracy*100:.2f}%\")\n",
        "    print(f\"Final Validation Accuracy (dari history): {final_val_accuracy*100:.2f}%\")\n",
        "else: # Jika training diinterupsi atau history tidak lengkap, evaluasi ulang pada training set\n",
        "    print(\"Mengevaluasi ulang pada training set...\")\n",
        "    train_loss, train_accuracy_eval = loaded_best_model.evaluate(train_generator, steps=max(1, train_generator.samples // BATCH_SIZE), verbose=0)\n",
        "    print(f\"Evaluated Training Accuracy: {train_accuracy_eval*100:.2f}%\")"
      ],
      "metadata": {
        "colab": {
          "base_uri": "https://localhost:8080/"
        },
        "id": "Dpqsgid7U8CA",
        "outputId": "cee52df8-cb85-4d03-d4de-2a3c4f86be59"
      },
      "execution_count": 34,
      "outputs": [
        {
          "output_type": "stream",
          "name": "stdout",
          "text": [
            "\n",
            "Memuat model terbaik untuk evaluasi akhir...\n",
            "Model terbaik dimuat dari best_vehicle_classifier_model.keras\n",
            "\n",
            "Mengevaluasi model pada test set...\n",
            "\u001b[1m26/26\u001b[0m \u001b[32m━━━━━━━━━━━━━━━━━━━━\u001b[0m\u001b[37m\u001b[0m \u001b[1m7s\u001b[0m 215ms/step - accuracy: 0.9358 - loss: 0.3984\n",
            "\n",
            "Test Loss: 0.3890\n",
            "Test Accuracy: 93.39%\n",
            "Final Training Accuracy (dari history): 84.38%\n",
            "Final Validation Accuracy (dari history): 92.07%\n"
          ]
        }
      ]
    },
    {
      "cell_type": "code",
      "source": [
        "if history and all(k in history.history for k in ['accuracy', 'val_accuracy', 'loss', 'val_loss']):\n",
        "    acc = history.history['accuracy']\n",
        "    val_acc = history.history['val_accuracy']\n",
        "    loss = history.history['loss']\n",
        "    val_loss = history.history['val_loss']\n",
        "    epochs_range = range(len(acc))\n",
        "\n",
        "    plt.figure(figsize=(15, 6))\n",
        "    plt.subplot(1, 2, 1)\n",
        "    plt.plot(epochs_range, acc, label='Training Accuracy')\n",
        "    plt.plot(epochs_range, val_acc, label='Validation Accuracy')\n",
        "    plt.legend(loc='lower right')\n",
        "    plt.title('Training and Validation Accuracy')\n",
        "    plt.xlabel('Epochs')\n",
        "    plt.ylabel('Accuracy')\n",
        "\n",
        "    plt.subplot(1, 2, 2)\n",
        "    plt.plot(epochs_range, loss, label='Training Loss')\n",
        "    plt.plot(epochs_range, val_loss, label='Validation Loss')\n",
        "    plt.legend(loc='upper right')\n",
        "    plt.title('Training and Validation Loss')\n",
        "    plt.xlabel('Epochs')\n",
        "    plt.ylabel('Loss')\n",
        "    plt.suptitle(\"Plot Akurasi dan Loss Model (Improved)\", fontsize=16)\n",
        "    plt.tight_layout(rect=[0, 0, 1, 0.96])\n",
        "    plt.show()\n",
        "else:\n",
        "    print(\"Tidak dapat membuat plot, history training tidak lengkap.\")"
      ],
      "metadata": {
        "colab": {
          "base_uri": "https://localhost:8080/",
          "height": 306
        },
        "id": "Bd402t-NVEVR",
        "outputId": "8c85c522-2d6f-485c-f5af-70f67f9c735e"
      },
      "execution_count": 35,
      "outputs": [
        {
          "output_type": "display_data",
          "data": {
            "text/plain": [
              "<Figure size 1500x600 with 2 Axes>"
            ],
            "image/png": "[encoded data removed]"
          },
          "metadata": {}
        }
      ]
    },
    {
      "cell_type": "markdown",
      "source": [
        "## Konversi Model"
      ],
      "metadata": {
        "id": "rHNZKDLAkZMq"
      }
    },
    {
      "cell_type": "code",
      "source": [
        "submission_dir = 'submission'\n",
        "tfjs_submission_dir = os.path.join(submission_dir, 'tfjs_model')\n",
        "tflite_submission_dir = os.path.join(submission_dir, 'tflite')\n",
        "saved_model_submission_dir = os.path.join(submission_dir, 'saved_model')\n",
        "\n",
        "# Buat direktori submission utama dan sub-direktori jika belum ada\n",
        "os.makedirs(submission_dir, exist_ok=True)\n",
        "os.makedirs(tfjs_submission_dir, exist_ok=True)\n",
        "os.makedirs(tflite_submission_dir, exist_ok=True)\n",
        "# Pastikan direktori untuk SavedModel ada dan kosong sebelum menyimpan\n",
        "if os.path.exists(saved_model_submission_dir):\n",
        "    print(f\"Menghapus direktori '{saved_model_submission_dir}' yang sudah ada sebelum menyimpan SavedModel baru...\")\n",
        "    shutil.rmtree(saved_model_submission_dir)\n",
        "os.makedirs(saved_model_submission_dir, exist_ok=True)\n",
        "\n",
        "print(f\"\\nStruktur folder '{submission_dir}' dan sub-direktorinya telah disiapkan.\")"
      ],
      "metadata": {
        "colab": {
          "base_uri": "https://localhost:8080/"
        },
        "id": "oegF06R7VI18",
        "outputId": "41f13ba3-2630-4ded-eeeb-1c74c0b655f9"
      },
      "execution_count": 38,
      "outputs": [
        {
          "output_type": "stream",
          "name": "stdout",
          "text": [
            "Menghapus direktori 'submission/saved_model' yang sudah ada sebelum menyimpan SavedModel baru...\n",
            "\n",
            "Struktur folder 'submission' dan sub-direktorinya telah disiapkan.\n"
          ]
        }
      ]
    },
    {
      "cell_type": "code",
      "source": [
        "print(f\"\\nMenyimpan model ke format SavedModel di direktori: {saved_model_submission_dir}...\")\n",
        "# `export` menyimpan ke dalam direktori yang namanya adalah nama model itu sendiri, jadi kita tidak perlu membuat subdirektori lagi.\n",
        "# Jika `saved_model_submission_dir` sudah ada isinya, hapus dulu.\n",
        "if os.path.exists(saved_model_submission_dir) and os.listdir(saved_model_submission_dir):\n",
        "     print(f\"Menghapus isi '{saved_model_submission_dir}' sebelum menyimpan SavedModel baru...\")\n",
        "     shutil.rmtree(saved_model_submission_dir)\n",
        "     # os.makedirs(saved_model_submission_dir, exist_ok=True) # Tidak perlu membuat ulang, export akan membuatnya jika tidak ada\n",
        "\n",
        "# Menggunakan model.export() untuk SavedModel format\n",
        "loaded_best_model.export(saved_model_submission_dir)\n",
        "\n",
        "print(f\"Model berhasil disimpan sebagai SavedModel di '{saved_model_submission_dir}'.\")\n",
        "print(f\"Isi direktori SavedModel:\")\n",
        "for item in os.listdir(saved_model_submission_dir):\n",
        "    print(f\"- {item}\")"
      ],
      "metadata": {
        "colab": {
          "base_uri": "https://localhost:8080/"
        },
        "id": "MNCNwzt5VPJA",
        "outputId": "515395b8-540f-49b3-ec87-45657c72cfaa"
      },
      "execution_count": 42,
      "outputs": [
        {
          "output_type": "stream",
          "name": "stdout",
          "text": [
            "\n",
            "Menyimpan model ke format SavedModel di direktori: submission/saved_model...\n",
            "Saved artifact at 'submission/saved_model'. The following endpoints are available:\n",
            "\n",
            "* Endpoint 'serve'\n",
            "  args_0 (POSITIONAL_ONLY): TensorSpec(shape=(None, 150, 150, 3), dtype=tf.float32, name='input_layer')\n",
            "Output Type:\n",
            "  TensorSpec(shape=(None, 7), dtype=tf.float32, name=None)\n",
            "Captures:\n",
            "  135623862020496: TensorSpec(shape=(), dtype=tf.resource, name=None)\n",
            "  135623862017424: TensorSpec(shape=(), dtype=tf.resource, name=None)\n",
            "  135623862018960: TensorSpec(shape=(), dtype=tf.resource, name=None)\n",
            "  135623862017232: TensorSpec(shape=(), dtype=tf.resource, name=None)\n",
            "  135623862018384: TensorSpec(shape=(), dtype=tf.resource, name=None)\n",
            "  135623862018192: TensorSpec(shape=(), dtype=tf.resource, name=None)\n",
            "  135623862020880: TensorSpec(shape=(), dtype=tf.resource, name=None)\n",
            "  135623862021456: TensorSpec(shape=(), dtype=tf.resource, name=None)\n",
            "  135623862021264: TensorSpec(shape=(), dtype=tf.resource, name=None)\n",
            "  135623862018576: TensorSpec(shape=(), dtype=tf.resource, name=None)\n",
            "  135623862021072: TensorSpec(shape=(), dtype=tf.resource, name=None)\n",
            "  135623862024144: TensorSpec(shape=(), dtype=tf.resource, name=None)\n",
            "  135623862024528: TensorSpec(shape=(), dtype=tf.resource, name=None)\n",
            "  135623862024336: TensorSpec(shape=(), dtype=tf.resource, name=None)\n",
            "  135623862020688: TensorSpec(shape=(), dtype=tf.resource, name=None)\n",
            "  135623862023568: TensorSpec(shape=(), dtype=tf.resource, name=None)\n",
            "  135623862023760: TensorSpec(shape=(), dtype=tf.resource, name=None)\n",
            "  135623800127952: TensorSpec(shape=(), dtype=tf.resource, name=None)\n",
            "  135623862025872: TensorSpec(shape=(), dtype=tf.resource, name=None)\n",
            "  135623862025296: TensorSpec(shape=(), dtype=tf.resource, name=None)\n",
            "  135623800127568: TensorSpec(shape=(), dtype=tf.resource, name=None)\n",
            "  135623800131600: TensorSpec(shape=(), dtype=tf.resource, name=None)\n",
            "  135623800130256: TensorSpec(shape=(), dtype=tf.resource, name=None)\n",
            "  135623800131408: TensorSpec(shape=(), dtype=tf.resource, name=None)\n",
            "  135623800130448: TensorSpec(shape=(), dtype=tf.resource, name=None)\n",
            "  135623800136592: TensorSpec(shape=(), dtype=tf.resource, name=None)\n",
            "  135623800139472: TensorSpec(shape=(), dtype=tf.resource, name=None)\n",
            "  135623800138512: TensorSpec(shape=(), dtype=tf.resource, name=None)\n",
            "  135623800139280: TensorSpec(shape=(), dtype=tf.resource, name=None)\n",
            "  135623800137552: TensorSpec(shape=(), dtype=tf.resource, name=None)\n",
            "  135623800142352: TensorSpec(shape=(), dtype=tf.resource, name=None)\n",
            "  135623800143504: TensorSpec(shape=(), dtype=tf.resource, name=None)\n",
            "Model berhasil disimpan sebagai SavedModel di 'submission/saved_model'.\n",
            "Isi direktori SavedModel:\n",
            "- fingerprint.pb\n",
            "- assets\n",
            "- variables\n",
            "- saved_model.pb\n"
          ]
        }
      ]
    },
    {
      "cell_type": "code",
      "source": [
        "tflite_model_filename = 'model.tflite'\n",
        "tflite_model_path_final = os.path.join(tflite_submission_dir, tflite_model_filename)\n",
        "label_filename = 'label.txt'\n",
        "label_path_final = os.path.join(tflite_submission_dir, label_filename)\n",
        "\n",
        "print(f\"\\nMengonversi model ke format TF-Lite dan menyimpannya sebagai: {tflite_model_path_final}...\")\n",
        "converter = tf.lite.TFLiteConverter.from_keras_model(loaded_best_model)\n",
        "# Atau dari SavedModel:\n",
        "# converter = tf.lite.TFLiteConverter.from_saved_model(saved_model_submission_dir)\n",
        "converter.optimizations = [tf.lite.Optimize.DEFAULT]\n",
        "tflite_model_quant = converter.convert()\n",
        "\n",
        "with open(tflite_model_path_final, 'wb') as f:\n",
        "    f.write(tflite_model_quant)\n",
        "print(f\"Model berhasil dikonversi dan disimpan sebagai TF-Lite di '{tflite_model_path_final}'.\")\n",
        "print(f\"Ukuran model TF-Lite: {os.path.getsize(tflite_model_path_final) / 1024:.2f} KB\")\n",
        "\n",
        "# Simpan label.txt\n",
        "print(f\"Menyimpan label kelas ke: {label_path_final}\")\n",
        "with open(label_path_final, 'w') as f:\n",
        "    for class_name in class_names: # Menggunakan class_names yang sudah diurutkan\n",
        "        f.write(f\"{class_name}\\n\")\n",
        "print(\"File label.txt berhasil disimpan.\")"
      ],
      "metadata": {
        "colab": {
          "base_uri": "https://localhost:8080/"
        },
        "id": "ucuSUyrmVjlJ",
        "outputId": "84aa0374-4382-4a09-a027-4876a7ca9038"
      },
      "execution_count": 43,
      "outputs": [
        {
          "output_type": "stream",
          "name": "stdout",
          "text": [
            "\n",
            "Mengonversi model ke format TF-Lite dan menyimpannya sebagai: submission/tflite/model.tflite...\n",
            "Saved artifact at '/tmp/tmphfah7k3s'. The following endpoints are available:\n",
            "\n",
            "* Endpoint 'serve'\n",
            "  args_0 (POSITIONAL_ONLY): TensorSpec(shape=(None, 150, 150, 3), dtype=tf.float32, name='input_layer')\n",
            "Output Type:\n",
            "  TensorSpec(shape=(None, 7), dtype=tf.float32, name=None)\n",
            "Captures:\n",
            "  135623862020496: TensorSpec(shape=(), dtype=tf.resource, name=None)\n",
            "  135623862017424: TensorSpec(shape=(), dtype=tf.resource, name=None)\n",
            "  135623862018960: TensorSpec(shape=(), dtype=tf.resource, name=None)\n",
            "  135623862017232: TensorSpec(shape=(), dtype=tf.resource, name=None)\n",
            "  135623862018384: TensorSpec(shape=(), dtype=tf.resource, name=None)\n",
            "  135623862018192: TensorSpec(shape=(), dtype=tf.resource, name=None)\n",
            "  135623862020880: TensorSpec(shape=(), dtype=tf.resource, name=None)\n",
            "  135623862021456: TensorSpec(shape=(), dtype=tf.resource, name=None)\n",
            "  135623862021264: TensorSpec(shape=(), dtype=tf.resource, name=None)\n",
            "  135623862018576: TensorSpec(shape=(), dtype=tf.resource, name=None)\n",
            "  135623862021072: TensorSpec(shape=(), dtype=tf.resource, name=None)\n",
            "  135623862024144: TensorSpec(shape=(), dtype=tf.resource, name=None)\n",
            "  135623862024528: TensorSpec(shape=(), dtype=tf.resource, name=None)\n",
            "  135623862024336: TensorSpec(shape=(), dtype=tf.resource, name=None)\n",
            "  135623862020688: TensorSpec(shape=(), dtype=tf.resource, name=None)\n",
            "  135623862023568: TensorSpec(shape=(), dtype=tf.resource, name=None)\n",
            "  135623862023760: TensorSpec(shape=(), dtype=tf.resource, name=None)\n",
            "  135623800127952: TensorSpec(shape=(), dtype=tf.resource, name=None)\n",
            "  135623862025872: TensorSpec(shape=(), dtype=tf.resource, name=None)\n",
            "  135623862025296: TensorSpec(shape=(), dtype=tf.resource, name=None)\n",
            "  135623800127568: TensorSpec(shape=(), dtype=tf.resource, name=None)\n",
            "  135623800131600: TensorSpec(shape=(), dtype=tf.resource, name=None)\n",
            "  135623800130256: TensorSpec(shape=(), dtype=tf.resource, name=None)\n",
            "  135623800131408: TensorSpec(shape=(), dtype=tf.resource, name=None)\n",
            "  135623800130448: TensorSpec(shape=(), dtype=tf.resource, name=None)\n",
            "  135623800136592: TensorSpec(shape=(), dtype=tf.resource, name=None)\n",
            "  135623800139472: TensorSpec(shape=(), dtype=tf.resource, name=None)\n",
            "  135623800138512: TensorSpec(shape=(), dtype=tf.resource, name=None)\n",
            "  135623800139280: TensorSpec(shape=(), dtype=tf.resource, name=None)\n",
            "  135623800137552: TensorSpec(shape=(), dtype=tf.resource, name=None)\n",
            "  135623800142352: TensorSpec(shape=(), dtype=tf.resource, name=None)\n",
            "  135623800143504: TensorSpec(shape=(), dtype=tf.resource, name=None)\n",
            "Model berhasil dikonversi dan disimpan sebagai TF-Lite di 'submission/tflite/model.tflite'.\n",
            "Ukuran model TF-Lite: 5661.73 KB\n",
            "Menyimpan label kelas ke: submission/tflite/label.txt\n",
            "File label.txt berhasil disimpan.\n"
          ]
        }
      ]
    },
    {
      "cell_type": "code",
      "source": [
        "print(f\"\\nMengonversi model ke format TFJS dan menyimpannya di direktori: {tfjs_submission_dir}...\")\n",
        "if os.path.exists(tfjs_submission_dir) and os.listdir(tfjs_submission_dir):\n",
        "    print(f\"Menghapus isi '{tfjs_submission_dir}' sebelum menyimpan model TFJS baru...\")\n",
        "    shutil.rmtree(tfjs_submission_dir)\n",
        "    os.makedirs(tfjs_submission_dir, exist_ok=True)\n",
        "\n",
        "# Menggunakan konversi dari SavedModel (lebih robust untuk beberapa kasus)\n",
        "# Command line tool adalah cara yang umum dan stabil\n",
        "try:\n",
        "    print(f\"Mencoba konversi TFJS dari SavedModel: {saved_model_submission_dir}\")\n",
        "    !tensorflowjs_converter \\\n",
        "        --input_format=tf_saved_model \\\n",
        "        --output_format=tfjs_graph_model \\\n",
        "        {saved_model_submission_dir} \\\n",
        "        {tfjs_submission_dir}\n",
        "    print(f\"Model TFJS berhasil dikonversi dari SavedModel ke '{tfjs_submission_dir}'.\")\n",
        "except Exception as e_sm:\n",
        "    print(f\"Konversi TFJS dari SavedModel gagal: {e_sm}\")\n",
        "    print(f\"Mencoba konversi TFJS dari file Keras: {checkpoint_path}\")\n",
        "    try:\n",
        "        !tensorflowjs_converter \\\n",
        "            --input_format=keras \\\n",
        "            {checkpoint_path} \\\n",
        "            {tfjs_submission_dir}\n",
        "        print(f\"Model TFJS berhasil dikonversi dari Keras model ke '{tfjs_submission_dir}'.\")\n",
        "    except Exception as e_keras:\n",
        "        print(f\"Konversi TFJS dari Keras model juga gagal: {e_keras}\")\n",
        "        print(\"Gagal mengonversi model ke format TFJS.\")\n",
        "\n",
        "print(f\"Isi direktori TFJS model ({tfjs_submission_dir}):\")\n",
        "if os.path.exists(tfjs_submission_dir):\n",
        "    for item in os.listdir(tfjs_submission_dir):\n",
        "        print(f\"- {item}\")\n",
        "else:\n",
        "    print(\"Direktori TFJS tidak ditemukan.\")"
      ],
      "metadata": {
        "colab": {
          "base_uri": "https://localhost:8080/"
        },
        "id": "oNRzU3QUVoZk",
        "outputId": "20b72be8-19cd-49d2-b754-28f836039ff8"
      },
      "execution_count": 44,
      "outputs": [
        {
          "output_type": "stream",
          "name": "stdout",
          "text": [
            "\n",
            "Mengonversi model ke format TFJS dan menyimpannya di direktori: submission/tfjs_model...\n",
            "Mencoba konversi TFJS dari SavedModel: submission/saved_model\n",
            "2025-05-27 06:53:08.747211: E external/local_xla/xla/stream_executor/cuda/cuda_fft.cc:477] Unable to register cuFFT factory: Attempting to register factory for plugin cuFFT when one has already been registered\n",
            "WARNING: All log messages before absl::InitializeLog() is called are written to STDERR\n",
            "E0000 00:00:1748328788.767744   16575 cuda_dnn.cc:8310] Unable to register cuDNN factory: Attempting to register factory for plugin cuDNN when one has already been registered\n",
            "E0000 00:00:1748328788.774017   16575 cuda_blas.cc:1418] Unable to register cuBLAS factory: Attempting to register factory for plugin cuBLAS when one has already been registered\n",
            "\u001b[32m🌲 Try \u001b[0m\u001b[34mhttps://ydf.readthedocs.io\u001b[0m\u001b[32m, the successor of TensorFlow Decision Forests with more features and faster training!\u001b[0m\n",
            "2025-05-27 06:53:13.220143: W tensorflow/core/common_runtime/gpu/gpu_bfc_allocator.cc:47] Overriding orig_value setting because the TF_FORCE_GPU_ALLOW_GROWTH environment variable is set. Original config value was 0.\n",
            "I0000 00:00:1748328793.220311   16575 gpu_device.cc:2022] Created device /job:localhost/replica:0/task:0/device:GPU:0 with 11778 MB memory:  -> device: 0, name: Tesla T4, pci bus id: 0000:00:04.0, compute capability: 7.5\n",
            "I0000 00:00:1748328793.487606   16575 devices.cc:67] Number of eligible GPUs (core count >= 8, compute capability >= 0.0): 1\n",
            "WARNING: All log messages before absl::InitializeLog() is called are written to STDERR\n",
            "I0000 00:00:1748328793.487774   16575 single_machine.cc:361] Starting new session\n",
            "I0000 00:00:1748328793.488673   16575 gpu_device.cc:2022] Created device /job:localhost/replica:0/task:0/device:GPU:0 with 11778 MB memory:  -> device: 0, name: Tesla T4, pci bus id: 0000:00:04.0, compute capability: 7.5\n",
            "Model TFJS berhasil dikonversi dari SavedModel ke 'submission/tfjs_model'.\n",
            "Isi direktori TFJS model (submission/tfjs_model):\n",
            "- group1-shard2of6.bin\n",
            "- group1-shard1of6.bin\n",
            "- model.json\n",
            "- group1-shard5of6.bin\n",
            "- group1-shard3of6.bin\n",
            "- group1-shard6of6.bin\n",
            "- group1-shard4of6.bin\n"
          ]
        }
      ]
    },
    {
      "cell_type": "markdown",
      "source": [
        "## Inference (Optional)"
      ],
      "metadata": {
        "id": "-QCq17Wukd2_"
      }
    },
    {
      "cell_type": "code",
      "source": [
        "from tensorflow.keras.preprocessing import image\n",
        "import random"
      ],
      "metadata": {
        "id": "7POCXpF1VsIb"
      },
      "execution_count": 45,
      "outputs": []
    },
    {
      "cell_type": "code",
      "source": [
        "# Menggunakan model Keras yang sudah dimuat (loaded_best_model) untuk inferensi\n",
        "inference_model = loaded_best_model\n",
        "class_labels = sorted(list(train_generator.class_indices.keys())) # Pastikan urutan label konsisten\n",
        "print(f\"\\nLabel kelas untuk inferensi: {class_labels}\")\n",
        "\n",
        "try:\n",
        "    # Pilih kelas acak dari direktori test\n",
        "    if not os.path.exists(test_dir) or not os.listdir(test_dir):\n",
        "        print(\"Direktori test kosong atau tidak ditemukan.\")\n",
        "    else:\n",
        "        valid_classes_in_test = [d for d in os.listdir(test_dir) if os.path.isdir(os.path.join(test_dir, d)) and d in class_labels]\n",
        "        if not valid_classes_in_test:\n",
        "            print(\"Tidak ada direktori kelas yang valid di dalam folder test.\")\n",
        "        else:\n",
        "            random_class = random.choice(valid_classes_in_test)\n",
        "            random_class_dir = os.path.join(test_dir, random_class)\n",
        "\n",
        "            if not os.listdir(random_class_dir):\n",
        "                print(f\"Tidak ada gambar di direktori kelas acak yang dipilih: {random_class_dir}\")\n",
        "            else:\n",
        "                random_image_name = random.choice([f for f in os.listdir(random_class_dir) if os.path.isfile(os.path.join(random_class_dir, f))])\n",
        "                img_path = os.path.join(random_class_dir, random_image_name)\n",
        "\n",
        "                print(f\"\\nGambar yang dipilih untuk inferensi: {img_path}\")\n",
        "                print(f\"Kelas Sebenarnya: {random_class}\")\n",
        "\n",
        "                img = image.load_img(img_path, target_size=(IMG_HEIGHT, IMG_WIDTH))\n",
        "                img_array = image.img_to_array(img)\n",
        "                img_array = np.expand_dims(img_array, axis=0)\n",
        "                img_array /= 255.0  # Normalisasi\n",
        "\n",
        "                predictions = inference_model.predict(img_array)\n",
        "                predicted_class_index = np.argmax(predictions[0])\n",
        "                predicted_class_label = class_labels[predicted_class_index]\n",
        "                confidence = np.max(predictions[0]) * 100\n",
        "\n",
        "                plt.figure(figsize=(6,6))\n",
        "                plt.imshow(img)\n",
        "                plt.title(f\"Prediksi: {predicted_class_label} ({confidence:.2f}%)\\nSebenarnya: {random_class}\")\n",
        "                plt.axis('off')\n",
        "                plt.show()\n",
        "\n",
        "                print(f\"\\n--- Bukti Inferensi ---\")\n",
        "                print(f\"File Gambar: {random_image_name}\")\n",
        "                print(f\"Kelas Prediksi: {predicted_class_label} | Keyakinan: {confidence:.2f}%\")\n",
        "                print(f\"--- Akhir Bukti Inferensi ---\")\n",
        "\n",
        "except Exception as e:\n",
        "    print(f\"Error saat melakukan inferensi: {e}\")\n",
        "    import traceback\n",
        "    traceback.print_exc()\n",
        "\n",
        "print(\"\\nProses Selesai. Periksa folder 'submission' untuk hasilnya.\")"
      ],
      "metadata": {
        "colab": {
          "base_uri": "https://localhost:8080/",
          "height": 788
        },
        "id": "z7v5bzmsVvfI",
        "outputId": "c17c9c7b-dc4d-4c85-d210-f11bc87affee"
      },
      "execution_count": 46,
      "outputs": [
        {
          "output_type": "stream",
          "name": "stdout",
          "text": [
            "\n",
            "Label kelas untuk inferensi: ['Auto Rickshaws', 'Bikes', 'Cars', 'Motorcycles', 'Planes', 'Ships', 'Trains']\n",
            "\n",
            "Gambar yang dipilih untuk inferensi: vehicle_data_split/test/Trains/Train (782).jpg\n",
            "Kelas Sebenarnya: Trains\n",
            "\u001b[1m1/1\u001b[0m \u001b[32m━━━━━━━━━━━━━━━━━━━━\u001b[0m\u001b[37m\u001b[0m \u001b[1m1s\u001b[0m 992ms/step\n"
          ]
        },
        {
          "output_type": "display_data",
          "data": {
            "text/plain": [
              "<Figure size 600x600 with 1 Axes>"
            ],
            "image/png": "[encoded data removed]"
          },
          "metadata": {}
        },
        {
          "output_type": "stream",
          "name": "stdout",
          "text": [
            "\n",
            "--- Bukti Inferensi ---\n",
            "File Gambar: Train (782).jpg\n",
            "Kelas Prediksi: Trains | Keyakinan: 99.98%\n",
            "--- Akhir Bukti Inferensi ---\n",
            "\n",
            "Proses Selesai. Periksa folder 'submission' untuk hasilnya.\n"
          ]
        }
      ]
    },
    {
      "cell_type": "code",
      "source": [
        "print(\"\\nMembuat file zip dari folder submission...\")\n",
        "shutil.make_archive('submission', 'zip', '.', 'submission')\n",
        "print(\"File submission.zip berhasil dibuat.\")\n",
        "try:\n",
        "    files.download('submission.zip')\n",
        "    print(\"Unduhan submission.zip dimulai.\")\n",
        "except Exception as e:\n",
        "    print(f\"Gagal mengunduh submission.zip secara otomatis: {e}\")\n",
        "    print(\"Anda bisa mengunduhnya manual dari panel file di sebelah kiri.\")"
      ],
      "metadata": {
        "colab": {
          "base_uri": "https://localhost:8080/",
          "height": 86
        },
        "id": "k0-gzRdtVz3x",
        "outputId": "7aa33efa-9990-4289-eaa4-98796fe7801e"
      },
      "execution_count": 48,
      "outputs": [
        {
          "output_type": "stream",
          "name": "stdout",
          "text": [
            "\n",
            "Membuat file zip dari folder submission...\n",
            "File submission.zip berhasil dibuat.\n"
          ]
        },
        {
          "output_type": "display_data",
          "data": {
            "text/plain": [
              "<IPython.core.display.Javascript object>"
            ],
            "application/javascript": [
              "\n",
              "    async function download(id, filename, size) {\n",
              "      if (!google.colab.kernel.accessAllowed) {\n",
              "        return;\n",
              "      }\n",
              "      const div = document.createElement('div');\n",
              "      const label = document.createElement('label');\n",
              "      label.textContent = `Downloading \"${filename}\": `;\n",
              "      div.appendChild(label);\n",
              "      const progress = document.createElement('progress');\n",
              "      progress.max = size;\n",
              "      div.appendChild(progress);\n",
              "      document.body.appendChild(div);\n",
              "\n",
              "      const buffers = [];\n",
              "      let downloaded = 0;\n",
              "\n",
              "      const channel = await google.colab.kernel.comms.open(id);\n",
              "      // Send a message to notify the kernel that we're ready.\n",
              "      channel.send({})\n",
              "\n",
              "      for await (const message of channel.messages) {\n",
              "        // Send a message to notify the kernel that we're ready.\n",
              "        channel.send({})\n",
              "        if (message.buffers) {\n",
              "          for (const buffer of message.buffers) {\n",
              "            buffers.push(buffer);\n",
              "            downloaded += buffer.byteLength;\n",
              "            progress.value = downloaded;\n",
              "          }\n",
              "        }\n",
              "      }\n",
              "      const blob = new Blob(buffers, {type: 'application/binary'});\n",
              "      const a = document.createElement('a');\n",
              "      a.href = window.URL.createObjectURL(blob);\n",
              "      a.download = filename;\n",
              "      div.appendChild(a);\n",
              "      a.click();\n",
              "      div.remove();\n",
              "    }\n",
              "  "
            ]
          },
          "metadata": {}
        },
        {
          "output_type": "display_data",
          "data": {
            "text/plain": [
              "<IPython.core.display.Javascript object>"
            ],
            "application/javascript": [
              "download(\"download_d5fd0698-2e44-4300-a163-d0fd659741cb\", \"submission.zip\", 69342934)"
            ]
          },
          "metadata": {}
        },
        {
          "output_type": "stream",
          "name": "stdout",
          "text": [
            "Unduhan submission.zip dimulai.\n"
          ]
        }
      ]
    }
  ]
}